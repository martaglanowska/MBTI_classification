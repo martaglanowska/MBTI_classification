{
 "cells": [
  {
   "cell_type": "code",
   "execution_count": 1,
   "metadata": {},
   "outputs": [
    {
     "name": "stdout",
     "output_type": "stream",
     "text": [
      "[PhysicalDevice(name='/physical_device:GPU:0', device_type='GPU')]\n"
     ]
    }
   ],
   "source": [
    "import tensorflow as tf\n",
    "print(tf.config.list_physical_devices('GPU'))"
   ]
  },
  {
   "cell_type": "code",
   "execution_count": 24,
   "metadata": {},
   "outputs": [],
   "source": [
    "import random\n",
    "import pandas as pd\n",
    "import numpy as np\n",
    "import matplotlib.pyplot as plt\n",
    "\n",
    "import nltk\n",
    "#from nltk.tokenize import word_tokenize\n",
    "from nltk.corpus import stopwords\n",
    "from nltk.tokenize import TweetTokenizer\n",
    "import re\n",
    "\n",
    "from tensorflow.keras.preprocessing.text import Tokenizer\n",
    "from tensorflow.keras.preprocessing.sequence import pad_sequences\n",
    "\n",
    "from timeit import default_timer as timer"
   ]
  },
  {
   "cell_type": "markdown",
   "metadata": {},
   "source": [
    "### Zbiór danych"
   ]
  },
  {
   "cell_type": "markdown",
   "metadata": {},
   "source": [
    "Pochodzi z platformy Kaggle: https://www.kaggle.com/datasets/datasnaek/mbti-type ."
   ]
  },
  {
   "cell_type": "code",
   "execution_count": 3,
   "metadata": {},
   "outputs": [
    {
     "data": {
      "text/html": [
       "<div>\n",
       "<style scoped>\n",
       "    .dataframe tbody tr th:only-of-type {\n",
       "        vertical-align: middle;\n",
       "    }\n",
       "\n",
       "    .dataframe tbody tr th {\n",
       "        vertical-align: top;\n",
       "    }\n",
       "\n",
       "    .dataframe thead th {\n",
       "        text-align: right;\n",
       "    }\n",
       "</style>\n",
       "<table border=\"1\" class=\"dataframe\">\n",
       "  <thead>\n",
       "    <tr style=\"text-align: right;\">\n",
       "      <th></th>\n",
       "      <th>type</th>\n",
       "      <th>posts</th>\n",
       "    </tr>\n",
       "  </thead>\n",
       "  <tbody>\n",
       "    <tr>\n",
       "      <th>0</th>\n",
       "      <td>INFJ</td>\n",
       "      <td>'http://www.youtube.com/watch?v=qsXHcwe3krw|||...</td>\n",
       "    </tr>\n",
       "    <tr>\n",
       "      <th>1</th>\n",
       "      <td>ENTP</td>\n",
       "      <td>'I'm finding the lack of me in these posts ver...</td>\n",
       "    </tr>\n",
       "    <tr>\n",
       "      <th>2</th>\n",
       "      <td>INTP</td>\n",
       "      <td>'Good one  _____   https://www.youtube.com/wat...</td>\n",
       "    </tr>\n",
       "    <tr>\n",
       "      <th>3</th>\n",
       "      <td>INTJ</td>\n",
       "      <td>'Dear INTP,   I enjoyed our conversation the o...</td>\n",
       "    </tr>\n",
       "    <tr>\n",
       "      <th>4</th>\n",
       "      <td>ENTJ</td>\n",
       "      <td>'You're fired.|||That's another silly misconce...</td>\n",
       "    </tr>\n",
       "  </tbody>\n",
       "</table>\n",
       "</div>"
      ],
      "text/plain": [
       "   type                                              posts\n",
       "0  INFJ  'http://www.youtube.com/watch?v=qsXHcwe3krw|||...\n",
       "1  ENTP  'I'm finding the lack of me in these posts ver...\n",
       "2  INTP  'Good one  _____   https://www.youtube.com/wat...\n",
       "3  INTJ  'Dear INTP,   I enjoyed our conversation the o...\n",
       "4  ENTJ  'You're fired.|||That's another silly misconce..."
      ]
     },
     "execution_count": 3,
     "metadata": {},
     "output_type": "execute_result"
    }
   ],
   "source": [
    "#każdy rząd składa się z typu osobowości i 50 ostatnich postów\n",
    "df = pd.read_csv('mbti_1.csv', sep=',')\n",
    "df.head()"
   ]
  },
  {
   "cell_type": "code",
   "execution_count": 4,
   "metadata": {},
   "outputs": [
    {
     "name": "stdout",
     "output_type": "stream",
     "text": [
      "['INFJ', 'ENTP', 'INTP', 'INTJ', 'ENTJ', 'ENFJ', 'INFP', 'ENFP', 'ISFP', 'ISTP', 'ISFJ', 'ISTJ', 'ESTP', 'ESFP', 'ESTJ', 'ESFJ']\n"
     ]
    },
    {
     "data": {
      "text/html": [
       "<div>\n",
       "<style scoped>\n",
       "    .dataframe tbody tr th:only-of-type {\n",
       "        vertical-align: middle;\n",
       "    }\n",
       "\n",
       "    .dataframe tbody tr th {\n",
       "        vertical-align: top;\n",
       "    }\n",
       "\n",
       "    .dataframe thead th {\n",
       "        text-align: right;\n",
       "    }\n",
       "</style>\n",
       "<table border=\"1\" class=\"dataframe\">\n",
       "  <thead>\n",
       "    <tr style=\"text-align: right;\">\n",
       "      <th></th>\n",
       "      <th>type</th>\n",
       "      <th>posts</th>\n",
       "      <th>class_no</th>\n",
       "    </tr>\n",
       "  </thead>\n",
       "  <tbody>\n",
       "    <tr>\n",
       "      <th>0</th>\n",
       "      <td>INFJ</td>\n",
       "      <td>'http://www.youtube.com/watch?v=qsXHcwe3krw|||...</td>\n",
       "      <td>0</td>\n",
       "    </tr>\n",
       "    <tr>\n",
       "      <th>1</th>\n",
       "      <td>ENTP</td>\n",
       "      <td>'I'm finding the lack of me in these posts ver...</td>\n",
       "      <td>1</td>\n",
       "    </tr>\n",
       "    <tr>\n",
       "      <th>2</th>\n",
       "      <td>INTP</td>\n",
       "      <td>'Good one  _____   https://www.youtube.com/wat...</td>\n",
       "      <td>2</td>\n",
       "    </tr>\n",
       "    <tr>\n",
       "      <th>3</th>\n",
       "      <td>INTJ</td>\n",
       "      <td>'Dear INTP,   I enjoyed our conversation the o...</td>\n",
       "      <td>3</td>\n",
       "    </tr>\n",
       "    <tr>\n",
       "      <th>4</th>\n",
       "      <td>ENTJ</td>\n",
       "      <td>'You're fired.|||That's another silly misconce...</td>\n",
       "      <td>4</td>\n",
       "    </tr>\n",
       "    <tr>\n",
       "      <th>...</th>\n",
       "      <td>...</td>\n",
       "      <td>...</td>\n",
       "      <td>...</td>\n",
       "    </tr>\n",
       "    <tr>\n",
       "      <th>8670</th>\n",
       "      <td>ISFP</td>\n",
       "      <td>'https://www.youtube.com/watch?v=t8edHB_h908||...</td>\n",
       "      <td>8</td>\n",
       "    </tr>\n",
       "    <tr>\n",
       "      <th>8671</th>\n",
       "      <td>ENFP</td>\n",
       "      <td>'So...if this thread already exists someplace ...</td>\n",
       "      <td>7</td>\n",
       "    </tr>\n",
       "    <tr>\n",
       "      <th>8672</th>\n",
       "      <td>INTP</td>\n",
       "      <td>'So many questions when i do these things.  I ...</td>\n",
       "      <td>2</td>\n",
       "    </tr>\n",
       "    <tr>\n",
       "      <th>8673</th>\n",
       "      <td>INFP</td>\n",
       "      <td>'I am very conflicted right now when it comes ...</td>\n",
       "      <td>6</td>\n",
       "    </tr>\n",
       "    <tr>\n",
       "      <th>8674</th>\n",
       "      <td>INFP</td>\n",
       "      <td>'It has been too long since I have been on per...</td>\n",
       "      <td>6</td>\n",
       "    </tr>\n",
       "  </tbody>\n",
       "</table>\n",
       "<p>8675 rows × 3 columns</p>\n",
       "</div>"
      ],
      "text/plain": [
       "      type                                              posts  class_no\n",
       "0     INFJ  'http://www.youtube.com/watch?v=qsXHcwe3krw|||...         0\n",
       "1     ENTP  'I'm finding the lack of me in these posts ver...         1\n",
       "2     INTP  'Good one  _____   https://www.youtube.com/wat...         2\n",
       "3     INTJ  'Dear INTP,   I enjoyed our conversation the o...         3\n",
       "4     ENTJ  'You're fired.|||That's another silly misconce...         4\n",
       "...    ...                                                ...       ...\n",
       "8670  ISFP  'https://www.youtube.com/watch?v=t8edHB_h908||...         8\n",
       "8671  ENFP  'So...if this thread already exists someplace ...         7\n",
       "8672  INTP  'So many questions when i do these things.  I ...         2\n",
       "8673  INFP  'I am very conflicted right now when it comes ...         6\n",
       "8674  INFP  'It has been too long since I have been on per...         6\n",
       "\n",
       "[8675 rows x 3 columns]"
      ]
     },
     "execution_count": 4,
     "metadata": {},
     "output_type": "execute_result"
    }
   ],
   "source": [
    "#16 typów osobowości - nazwy klas\n",
    "types = df.type.unique().tolist()\n",
    "print(types)\n",
    "\n",
    "#dodanie kolumny z klasami wyrażonymi liczbami (0 - 15)\n",
    "df['class_no'] = df.apply(lambda x: types.index(x['type']), axis=1)\n",
    "\n",
    "df"
   ]
  },
  {
   "cell_type": "code",
   "execution_count": 5,
   "metadata": {},
   "outputs": [
    {
     "data": {
      "text/plain": [
       "{0: 'INFJ',\n",
       " 1: 'ENTP',\n",
       " 2: 'INTP',\n",
       " 3: 'INTJ',\n",
       " 4: 'ENTJ',\n",
       " 5: 'ENFJ',\n",
       " 6: 'INFP',\n",
       " 7: 'ENFP',\n",
       " 8: 'ISFP',\n",
       " 9: 'ISTP',\n",
       " 10: 'ISFJ',\n",
       " 11: 'ISTJ',\n",
       " 12: 'ESTP',\n",
       " 13: 'ESFP',\n",
       " 14: 'ESTJ',\n",
       " 15: 'ESFJ'}"
      ]
     },
     "execution_count": 5,
     "metadata": {},
     "output_type": "execute_result"
    }
   ],
   "source": [
    "#słownik odkodowujący\n",
    "idx_to_type = {}\n",
    "for i, t in enumerate(types): idx_to_type[i] = t\n",
    "\n",
    "idx_to_type"
   ]
  },
  {
   "cell_type": "code",
   "execution_count": 6,
   "metadata": {},
   "outputs": [],
   "source": [
    "#zamiana separatora postów na zwykłą spację\n",
    "df['posts_merged'] = df['posts'].str.replace(pat = '|||', repl = ' ')"
   ]
  },
  {
   "cell_type": "code",
   "execution_count": 7,
   "metadata": {},
   "outputs": [
    {
     "data": {
      "text/html": [
       "<div>\n",
       "<style scoped>\n",
       "    .dataframe tbody tr th:only-of-type {\n",
       "        vertical-align: middle;\n",
       "    }\n",
       "\n",
       "    .dataframe tbody tr th {\n",
       "        vertical-align: top;\n",
       "    }\n",
       "\n",
       "    .dataframe thead th {\n",
       "        text-align: right;\n",
       "    }\n",
       "</style>\n",
       "<table border=\"1\" class=\"dataframe\">\n",
       "  <thead>\n",
       "    <tr style=\"text-align: right;\">\n",
       "      <th></th>\n",
       "      <th>type</th>\n",
       "      <th>posts</th>\n",
       "      <th>class_no</th>\n",
       "      <th>posts_merged</th>\n",
       "    </tr>\n",
       "  </thead>\n",
       "  <tbody>\n",
       "    <tr>\n",
       "      <th>0</th>\n",
       "      <td>INFJ</td>\n",
       "      <td>'http://www.youtube.com/watch?v=qsXHcwe3krw|||...</td>\n",
       "      <td>0</td>\n",
       "      <td>'http://www.youtube.com/watch?v=qsXHcwe3krw ht...</td>\n",
       "    </tr>\n",
       "    <tr>\n",
       "      <th>1</th>\n",
       "      <td>ENTP</td>\n",
       "      <td>'I'm finding the lack of me in these posts ver...</td>\n",
       "      <td>1</td>\n",
       "      <td>'I'm finding the lack of me in these posts ver...</td>\n",
       "    </tr>\n",
       "    <tr>\n",
       "      <th>2</th>\n",
       "      <td>INTP</td>\n",
       "      <td>'Good one  _____   https://www.youtube.com/wat...</td>\n",
       "      <td>2</td>\n",
       "      <td>'Good one  _____   https://www.youtube.com/wat...</td>\n",
       "    </tr>\n",
       "    <tr>\n",
       "      <th>3</th>\n",
       "      <td>INTJ</td>\n",
       "      <td>'Dear INTP,   I enjoyed our conversation the o...</td>\n",
       "      <td>3</td>\n",
       "      <td>'Dear INTP,   I enjoyed our conversation the o...</td>\n",
       "    </tr>\n",
       "    <tr>\n",
       "      <th>4</th>\n",
       "      <td>ENTJ</td>\n",
       "      <td>'You're fired.|||That's another silly misconce...</td>\n",
       "      <td>4</td>\n",
       "      <td>'You're fired. That's another silly misconcept...</td>\n",
       "    </tr>\n",
       "  </tbody>\n",
       "</table>\n",
       "</div>"
      ],
      "text/plain": [
       "   type                                              posts  class_no  \\\n",
       "0  INFJ  'http://www.youtube.com/watch?v=qsXHcwe3krw|||...         0   \n",
       "1  ENTP  'I'm finding the lack of me in these posts ver...         1   \n",
       "2  INTP  'Good one  _____   https://www.youtube.com/wat...         2   \n",
       "3  INTJ  'Dear INTP,   I enjoyed our conversation the o...         3   \n",
       "4  ENTJ  'You're fired.|||That's another silly misconce...         4   \n",
       "\n",
       "                                        posts_merged  \n",
       "0  'http://www.youtube.com/watch?v=qsXHcwe3krw ht...  \n",
       "1  'I'm finding the lack of me in these posts ver...  \n",
       "2  'Good one  _____   https://www.youtube.com/wat...  \n",
       "3  'Dear INTP,   I enjoyed our conversation the o...  \n",
       "4  'You're fired. That's another silly misconcept...  "
      ]
     },
     "execution_count": 7,
     "metadata": {},
     "output_type": "execute_result"
    }
   ],
   "source": [
    "df.head()"
   ]
  },
  {
   "cell_type": "markdown",
   "metadata": {},
   "source": [
    "### Rozpakowanie postów"
   ]
  },
  {
   "cell_type": "markdown",
   "metadata": {},
   "source": [
    "Każdy z wierszy zawiera wewnątrz 50 postów. Nie rozdzielamy ich, są już złączone w jeden długi tekst."
   ]
  },
  {
   "cell_type": "code",
   "execution_count": 8,
   "metadata": {},
   "outputs": [],
   "source": [
    "#usunięcie rozdzielonej kolumny\n",
    "df = df.drop(columns = ['posts'])"
   ]
  },
  {
   "cell_type": "code",
   "execution_count": 9,
   "metadata": {},
   "outputs": [],
   "source": [
    "#zmiana typów zmiennych\n",
    "df = df.astype({'type':'string', 'posts_merged':'string'})"
   ]
  },
  {
   "cell_type": "code",
   "execution_count": 10,
   "metadata": {},
   "outputs": [
    {
     "data": {
      "text/html": [
       "<div>\n",
       "<style scoped>\n",
       "    .dataframe tbody tr th:only-of-type {\n",
       "        vertical-align: middle;\n",
       "    }\n",
       "\n",
       "    .dataframe tbody tr th {\n",
       "        vertical-align: top;\n",
       "    }\n",
       "\n",
       "    .dataframe thead th {\n",
       "        text-align: right;\n",
       "    }\n",
       "</style>\n",
       "<table border=\"1\" class=\"dataframe\">\n",
       "  <thead>\n",
       "    <tr style=\"text-align: right;\">\n",
       "      <th></th>\n",
       "      <th>type</th>\n",
       "      <th>class_no</th>\n",
       "      <th>posts_merged</th>\n",
       "    </tr>\n",
       "  </thead>\n",
       "  <tbody>\n",
       "    <tr>\n",
       "      <th>0</th>\n",
       "      <td>INFJ</td>\n",
       "      <td>0</td>\n",
       "      <td>'http://www.youtube.com/watch?v=qsXHcwe3krw ht...</td>\n",
       "    </tr>\n",
       "    <tr>\n",
       "      <th>1</th>\n",
       "      <td>ENTP</td>\n",
       "      <td>1</td>\n",
       "      <td>'I'm finding the lack of me in these posts ver...</td>\n",
       "    </tr>\n",
       "    <tr>\n",
       "      <th>2</th>\n",
       "      <td>INTP</td>\n",
       "      <td>2</td>\n",
       "      <td>'Good one  _____   https://www.youtube.com/wat...</td>\n",
       "    </tr>\n",
       "    <tr>\n",
       "      <th>3</th>\n",
       "      <td>INTJ</td>\n",
       "      <td>3</td>\n",
       "      <td>'Dear INTP,   I enjoyed our conversation the o...</td>\n",
       "    </tr>\n",
       "    <tr>\n",
       "      <th>4</th>\n",
       "      <td>ENTJ</td>\n",
       "      <td>4</td>\n",
       "      <td>'You're fired. That's another silly misconcept...</td>\n",
       "    </tr>\n",
       "  </tbody>\n",
       "</table>\n",
       "</div>"
      ],
      "text/plain": [
       "   type  class_no                                       posts_merged\n",
       "0  INFJ         0  'http://www.youtube.com/watch?v=qsXHcwe3krw ht...\n",
       "1  ENTP         1  'I'm finding the lack of me in these posts ver...\n",
       "2  INTP         2  'Good one  _____   https://www.youtube.com/wat...\n",
       "3  INTJ         3  'Dear INTP,   I enjoyed our conversation the o...\n",
       "4  ENTJ         4  'You're fired. That's another silly misconcept..."
      ]
     },
     "execution_count": 10,
     "metadata": {},
     "output_type": "execute_result"
    }
   ],
   "source": [
    "df.head()"
   ]
  },
  {
   "cell_type": "markdown",
   "metadata": {},
   "source": [
    "Rezygnujemy z dalszej obróbki tekstu."
   ]
  },
  {
   "cell_type": "markdown",
   "metadata": {},
   "source": [
    "### Podział danych"
   ]
  },
  {
   "cell_type": "code",
   "execution_count": 11,
   "metadata": {},
   "outputs": [],
   "source": [
    "from sklearn.model_selection import train_test_split\n",
    "\n",
    "# Split 80/20\n",
    "df_train, df_test = train_test_split(df, test_size=0.2, random_state=0, shuffle=True, stratify=df.type)"
   ]
  },
  {
   "cell_type": "markdown",
   "metadata": {},
   "source": [
    "### Modelowanie - BERT\n",
    "\n",
    "https://www.tensorflow.org/text/tutorials/classify_text_with_bert"
   ]
  },
  {
   "cell_type": "code",
   "execution_count": 13,
   "metadata": {},
   "outputs": [],
   "source": [
    "# !pip install tf-models-official"
   ]
  },
  {
   "cell_type": "code",
   "execution_count": 14,
   "metadata": {},
   "outputs": [
    {
     "name": "stderr",
     "output_type": "stream",
     "text": [
      "c:\\Users\\marta\\anaconda3\\envs\\mgr\\lib\\site-packages\\tensorflow_addons\\utils\\tfa_eol_msg.py:23: UserWarning: \n",
      "\n",
      "TensorFlow Addons (TFA) has ended development and introduction of new features.\n",
      "TFA has entered a minimal maintenance and release mode until a planned end of life in May 2024.\n",
      "Please modify downstream libraries to take dependencies from other repositories in our TensorFlow community (e.g. Keras, Keras-CV, and Keras-NLP). \n",
      "\n",
      "For more information see: https://github.com/tensorflow/addons/issues/2807 \n",
      "\n",
      "  warnings.warn(\n",
      "c:\\Users\\marta\\anaconda3\\envs\\mgr\\lib\\site-packages\\tensorflow_addons\\utils\\ensure_tf_install.py:53: UserWarning: Tensorflow Addons supports using Python ops for all Tensorflow versions above or equal to 2.12.0 and strictly below 2.15.0 (nightly versions are not supported). \n",
      " The versions of TensorFlow you are currently using is 2.10.1 and is not supported. \n",
      "Some things might work, some things might not.\n",
      "If you were to encounter a bug, do not file an issue.\n",
      "If you want to make sure you're using a tested and supported configuration, either change the TensorFlow version or the TensorFlow Addons's version. \n",
      "You can find the compatibility matrix in TensorFlow Addon's readme:\n",
      "https://github.com/tensorflow/addons\n",
      "  warnings.warn(\n"
     ]
    }
   ],
   "source": [
    "import os\n",
    "import shutil\n",
    "\n",
    "import tensorflow as tf\n",
    "import tensorflow_hub as hub\n",
    "import tensorflow_text as text\n",
    "from official.nlp import optimization  # to create AdamW optimizer\n",
    "\n",
    "import matplotlib.pyplot as plt\n",
    "\n",
    "tf.get_logger().setLevel('ERROR')"
   ]
  },
  {
   "cell_type": "code",
   "execution_count": 15,
   "metadata": {},
   "outputs": [],
   "source": [
    "#@title Choose a BERT model to fine-tune\n",
    "\n",
    "map_name_to_handle = {\n",
    "    'bert_en_uncased_L-12_H-768_A-12':\n",
    "        'https://tfhub.dev/tensorflow/bert_en_uncased_L-12_H-768_A-12/3',\n",
    "    'bert_en_cased_L-12_H-768_A-12':\n",
    "        'https://tfhub.dev/tensorflow/bert_en_cased_L-12_H-768_A-12/3',\n",
    "    'bert_multi_cased_L-12_H-768_A-12':\n",
    "        'https://tfhub.dev/tensorflow/bert_multi_cased_L-12_H-768_A-12/3',\n",
    "    'small_bert/bert_en_uncased_L-2_H-128_A-2':\n",
    "        'https://tfhub.dev/tensorflow/small_bert/bert_en_uncased_L-2_H-128_A-2/1',\n",
    "    'small_bert/bert_en_uncased_L-2_H-256_A-4':\n",
    "        'https://tfhub.dev/tensorflow/small_bert/bert_en_uncased_L-2_H-256_A-4/1',\n",
    "    'small_bert/bert_en_uncased_L-2_H-512_A-8':\n",
    "        'https://tfhub.dev/tensorflow/small_bert/bert_en_uncased_L-2_H-512_A-8/1',\n",
    "    'small_bert/bert_en_uncased_L-2_H-768_A-12':\n",
    "        'https://tfhub.dev/tensorflow/small_bert/bert_en_uncased_L-2_H-768_A-12/1',\n",
    "    'small_bert/bert_en_uncased_L-4_H-128_A-2':\n",
    "        'https://tfhub.dev/tensorflow/small_bert/bert_en_uncased_L-4_H-128_A-2/1',\n",
    "    'small_bert/bert_en_uncased_L-4_H-256_A-4':\n",
    "        'https://tfhub.dev/tensorflow/small_bert/bert_en_uncased_L-4_H-256_A-4/1',\n",
    "    'small_bert/bert_en_uncased_L-4_H-512_A-8':\n",
    "        'https://tfhub.dev/tensorflow/small_bert/bert_en_uncased_L-4_H-512_A-8/1',\n",
    "    'small_bert/bert_en_uncased_L-4_H-768_A-12':\n",
    "        'https://tfhub.dev/tensorflow/small_bert/bert_en_uncased_L-4_H-768_A-12/1',\n",
    "    'small_bert/bert_en_uncased_L-6_H-128_A-2':\n",
    "        'https://tfhub.dev/tensorflow/small_bert/bert_en_uncased_L-6_H-128_A-2/1',\n",
    "    'small_bert/bert_en_uncased_L-6_H-256_A-4':\n",
    "        'https://tfhub.dev/tensorflow/small_bert/bert_en_uncased_L-6_H-256_A-4/1',\n",
    "    'small_bert/bert_en_uncased_L-6_H-512_A-8':\n",
    "        'https://tfhub.dev/tensorflow/small_bert/bert_en_uncased_L-6_H-512_A-8/1',\n",
    "    'small_bert/bert_en_uncased_L-6_H-768_A-12':\n",
    "        'https://tfhub.dev/tensorflow/small_bert/bert_en_uncased_L-6_H-768_A-12/1',\n",
    "    'small_bert/bert_en_uncased_L-8_H-128_A-2':\n",
    "        'https://tfhub.dev/tensorflow/small_bert/bert_en_uncased_L-8_H-128_A-2/1',\n",
    "    'small_bert/bert_en_uncased_L-8_H-256_A-4':\n",
    "        'https://tfhub.dev/tensorflow/small_bert/bert_en_uncased_L-8_H-256_A-4/1',\n",
    "    'small_bert/bert_en_uncased_L-8_H-512_A-8':\n",
    "        'https://tfhub.dev/tensorflow/small_bert/bert_en_uncased_L-8_H-512_A-8/1',\n",
    "    'small_bert/bert_en_uncased_L-8_H-768_A-12':\n",
    "        'https://tfhub.dev/tensorflow/small_bert/bert_en_uncased_L-8_H-768_A-12/1',\n",
    "    'small_bert/bert_en_uncased_L-10_H-128_A-2':\n",
    "        'https://tfhub.dev/tensorflow/small_bert/bert_en_uncased_L-10_H-128_A-2/1',\n",
    "    'small_bert/bert_en_uncased_L-10_H-256_A-4':\n",
    "        'https://tfhub.dev/tensorflow/small_bert/bert_en_uncased_L-10_H-256_A-4/1',\n",
    "    'small_bert/bert_en_uncased_L-10_H-512_A-8':\n",
    "        'https://tfhub.dev/tensorflow/small_bert/bert_en_uncased_L-10_H-512_A-8/1',\n",
    "    'small_bert/bert_en_uncased_L-10_H-768_A-12':\n",
    "        'https://tfhub.dev/tensorflow/small_bert/bert_en_uncased_L-10_H-768_A-12/1',\n",
    "    'small_bert/bert_en_uncased_L-12_H-128_A-2':\n",
    "        'https://tfhub.dev/tensorflow/small_bert/bert_en_uncased_L-12_H-128_A-2/1',\n",
    "    'small_bert/bert_en_uncased_L-12_H-256_A-4':\n",
    "        'https://tfhub.dev/tensorflow/small_bert/bert_en_uncased_L-12_H-256_A-4/1',\n",
    "    'small_bert/bert_en_uncased_L-12_H-512_A-8':\n",
    "        'https://tfhub.dev/tensorflow/small_bert/bert_en_uncased_L-12_H-512_A-8/1',\n",
    "    'small_bert/bert_en_uncased_L-12_H-768_A-12':\n",
    "        'https://tfhub.dev/tensorflow/small_bert/bert_en_uncased_L-12_H-768_A-12/1',\n",
    "    'albert_en_base':\n",
    "        'https://tfhub.dev/tensorflow/albert_en_base/2',\n",
    "    'electra_small':\n",
    "        'https://tfhub.dev/google/electra_small/2',\n",
    "    'electra_base':\n",
    "        'https://tfhub.dev/google/electra_base/2',\n",
    "    'experts_pubmed':\n",
    "        'https://tfhub.dev/google/experts/bert/pubmed/2',\n",
    "    'experts_wiki_books':\n",
    "        'https://tfhub.dev/google/experts/bert/wiki_books/2',\n",
    "    'talking-heads_base':\n",
    "        'https://tfhub.dev/tensorflow/talkheads_ggelu_bert_en_base/1',\n",
    "}\n",
    "\n",
    "map_model_to_preprocess = {\n",
    "    'bert_en_uncased_L-12_H-768_A-12':\n",
    "        'https://tfhub.dev/tensorflow/bert_en_uncased_preprocess/3',\n",
    "    'bert_en_cased_L-12_H-768_A-12':\n",
    "        'https://tfhub.dev/tensorflow/bert_en_cased_preprocess/3',\n",
    "    'small_bert/bert_en_uncased_L-2_H-128_A-2':\n",
    "        'https://tfhub.dev/tensorflow/bert_en_uncased_preprocess/3',\n",
    "    'small_bert/bert_en_uncased_L-2_H-256_A-4':\n",
    "        'https://tfhub.dev/tensorflow/bert_en_uncased_preprocess/3',\n",
    "    'small_bert/bert_en_uncased_L-2_H-512_A-8':\n",
    "        'https://tfhub.dev/tensorflow/bert_en_uncased_preprocess/3',\n",
    "    'small_bert/bert_en_uncased_L-2_H-768_A-12':\n",
    "        'https://tfhub.dev/tensorflow/bert_en_uncased_preprocess/3',\n",
    "    'small_bert/bert_en_uncased_L-4_H-128_A-2':\n",
    "        'https://tfhub.dev/tensorflow/bert_en_uncased_preprocess/3',\n",
    "    'small_bert/bert_en_uncased_L-4_H-256_A-4':\n",
    "        'https://tfhub.dev/tensorflow/bert_en_uncased_preprocess/3',\n",
    "    'small_bert/bert_en_uncased_L-4_H-512_A-8':\n",
    "        'https://tfhub.dev/tensorflow/bert_en_uncased_preprocess/3',\n",
    "    'small_bert/bert_en_uncased_L-4_H-768_A-12':\n",
    "        'https://tfhub.dev/tensorflow/bert_en_uncased_preprocess/3',\n",
    "    'small_bert/bert_en_uncased_L-6_H-128_A-2':\n",
    "        'https://tfhub.dev/tensorflow/bert_en_uncased_preprocess/3',\n",
    "    'small_bert/bert_en_uncased_L-6_H-256_A-4':\n",
    "        'https://tfhub.dev/tensorflow/bert_en_uncased_preprocess/3',\n",
    "    'small_bert/bert_en_uncased_L-6_H-512_A-8':\n",
    "        'https://tfhub.dev/tensorflow/bert_en_uncased_preprocess/3',\n",
    "    'small_bert/bert_en_uncased_L-6_H-768_A-12':\n",
    "        'https://tfhub.dev/tensorflow/bert_en_uncased_preprocess/3',\n",
    "    'small_bert/bert_en_uncased_L-8_H-128_A-2':\n",
    "        'https://tfhub.dev/tensorflow/bert_en_uncased_preprocess/3',\n",
    "    'small_bert/bert_en_uncased_L-8_H-256_A-4':\n",
    "        'https://tfhub.dev/tensorflow/bert_en_uncased_preprocess/3',\n",
    "    'small_bert/bert_en_uncased_L-8_H-512_A-8':\n",
    "        'https://tfhub.dev/tensorflow/bert_en_uncased_preprocess/3',\n",
    "    'small_bert/bert_en_uncased_L-8_H-768_A-12':\n",
    "        'https://tfhub.dev/tensorflow/bert_en_uncased_preprocess/3',\n",
    "    'small_bert/bert_en_uncased_L-10_H-128_A-2':\n",
    "        'https://tfhub.dev/tensorflow/bert_en_uncased_preprocess/3',\n",
    "    'small_bert/bert_en_uncased_L-10_H-256_A-4':\n",
    "        'https://tfhub.dev/tensorflow/bert_en_uncased_preprocess/3',\n",
    "    'small_bert/bert_en_uncased_L-10_H-512_A-8':\n",
    "        'https://tfhub.dev/tensorflow/bert_en_uncased_preprocess/3',\n",
    "    'small_bert/bert_en_uncased_L-10_H-768_A-12':\n",
    "        'https://tfhub.dev/tensorflow/bert_en_uncased_preprocess/3',\n",
    "    'small_bert/bert_en_uncased_L-12_H-128_A-2':\n",
    "        'https://tfhub.dev/tensorflow/bert_en_uncased_preprocess/3',\n",
    "    'small_bert/bert_en_uncased_L-12_H-256_A-4':\n",
    "        'https://tfhub.dev/tensorflow/bert_en_uncased_preprocess/3',\n",
    "    'small_bert/bert_en_uncased_L-12_H-512_A-8':\n",
    "        'https://tfhub.dev/tensorflow/bert_en_uncased_preprocess/3',\n",
    "    'small_bert/bert_en_uncased_L-12_H-768_A-12':\n",
    "        'https://tfhub.dev/tensorflow/bert_en_uncased_preprocess/3',\n",
    "    'bert_multi_cased_L-12_H-768_A-12':\n",
    "        'https://tfhub.dev/tensorflow/bert_multi_cased_preprocess/3',\n",
    "    'albert_en_base':\n",
    "        'https://tfhub.dev/tensorflow/albert_en_preprocess/3',\n",
    "    'electra_small':\n",
    "        'https://tfhub.dev/tensorflow/bert_en_uncased_preprocess/3',\n",
    "    'electra_base':\n",
    "        'https://tfhub.dev/tensorflow/bert_en_uncased_preprocess/3',\n",
    "    'experts_pubmed':\n",
    "        'https://tfhub.dev/tensorflow/bert_en_uncased_preprocess/3',\n",
    "    'experts_wiki_books':\n",
    "        'https://tfhub.dev/tensorflow/bert_en_uncased_preprocess/3',\n",
    "    'talking-heads_base':\n",
    "        'https://tfhub.dev/tensorflow/bert_en_uncased_preprocess/3',\n",
    "}"
   ]
  },
  {
   "cell_type": "markdown",
   "metadata": {},
   "source": [
    "Pierwsza próba - niewykorzystana"
   ]
  },
  {
   "cell_type": "code",
   "execution_count": 17,
   "metadata": {},
   "outputs": [
    {
     "name": "stdout",
     "output_type": "stream",
     "text": [
      "BERT model selected           : https://tfhub.dev/tensorflow/small_bert/bert_en_uncased_L-4_H-512_A-8/1\n",
      "Preprocess model auto-selected: https://tfhub.dev/tensorflow/bert_en_uncased_preprocess/3\n"
     ]
    }
   ],
   "source": [
    "bert_model_name = 'small_bert/bert_en_uncased_L-4_H-512_A-8'  #@param [\"bert_en_uncased_L-12_H-768_A-12\", \"bert_en_cased_L-12_H-768_A-12\", \"bert_multi_cased_L-12_H-768_A-12\", \"small_bert/bert_en_uncased_L-2_H-128_A-2\", \"small_bert/bert_en_uncased_L-2_H-256_A-4\", \"small_bert/bert_en_uncased_L-2_H-512_A-8\", \"small_bert/bert_en_uncased_L-2_H-768_A-12\", \"small_bert/bert_en_uncased_L-4_H-128_A-2\", \"small_bert/bert_en_uncased_L-4_H-256_A-4\", \"small_bert/bert_en_uncased_L-4_H-512_A-8\", \"small_bert/bert_en_uncased_L-4_H-768_A-12\", \"small_bert/bert_en_uncased_L-6_H-128_A-2\", \"small_bert/bert_en_uncased_L-6_H-256_A-4\", \"small_bert/bert_en_uncased_L-6_H-512_A-8\", \"small_bert/bert_en_uncased_L-6_H-768_A-12\", \"small_bert/bert_en_uncased_L-8_H-128_A-2\", \"small_bert/bert_en_uncased_L-8_H-256_A-4\", \"small_bert/bert_en_uncased_L-8_H-512_A-8\", \"small_bert/bert_en_uncased_L-8_H-768_A-12\", \"small_bert/bert_en_uncased_L-10_H-128_A-2\", \"small_bert/bert_en_uncased_L-10_H-256_A-4\", \"small_bert/bert_en_uncased_L-10_H-512_A-8\", \"small_bert/bert_en_uncased_L-10_H-768_A-12\", \"small_bert/bert_en_uncased_L-12_H-128_A-2\", \"small_bert/bert_en_uncased_L-12_H-256_A-4\", \"small_bert/bert_en_uncased_L-12_H-512_A-8\", \"small_bert/bert_en_uncased_L-12_H-768_A-12\", \"albert_en_base\", \"electra_small\", \"electra_base\", \"experts_pubmed\", \"experts_wiki_books\", \"talking-heads_base\"]\n",
    "\n",
    "tfhub_handle_encoder = map_name_to_handle[bert_model_name]\n",
    "tfhub_handle_preprocess = map_model_to_preprocess[bert_model_name]\n",
    "\n",
    "print(f'BERT model selected           : {tfhub_handle_encoder}')\n",
    "print(f'Preprocess model auto-selected: {tfhub_handle_preprocess}')"
   ]
  },
  {
   "cell_type": "code",
   "execution_count": 18,
   "metadata": {},
   "outputs": [],
   "source": [
    "bert_preprocess_model = hub.KerasLayer(tfhub_handle_preprocess)"
   ]
  },
  {
   "cell_type": "code",
   "execution_count": 19,
   "metadata": {},
   "outputs": [
    {
     "name": "stdout",
     "output_type": "stream",
     "text": [
      "Keys       : ['input_type_ids', 'input_word_ids', 'input_mask']\n",
      "Shape      : (1, 128)\n",
      "Word Ids   : [ 101 1005 8299 1024 1013 1013 7479 1012 7858 1012 4012 1013]\n",
      "Input Mask : [1 1 1 1 1 1 1 1 1 1 1 1]\n",
      "Type Ids   : [0 0 0 0 0 0 0 0 0 0 0 0]\n"
     ]
    }
   ],
   "source": [
    "text_test = [df_train.posts_merged[0]]\n",
    "text_preprocessed = bert_preprocess_model(text_test)\n",
    "\n",
    "print(f'Keys       : {list(text_preprocessed.keys())}')\n",
    "print(f'Shape      : {text_preprocessed[\"input_word_ids\"].shape}')\n",
    "print(f'Word Ids   : {text_preprocessed[\"input_word_ids\"][0, :12]}')\n",
    "print(f'Input Mask : {text_preprocessed[\"input_mask\"][0, :12]}')\n",
    "print(f'Type Ids   : {text_preprocessed[\"input_type_ids\"][0, :12]}')"
   ]
  },
  {
   "cell_type": "code",
   "execution_count": 20,
   "metadata": {},
   "outputs": [],
   "source": [
    "bert_model = hub.KerasLayer(tfhub_handle_encoder)"
   ]
  },
  {
   "cell_type": "code",
   "execution_count": 21,
   "metadata": {},
   "outputs": [
    {
     "name": "stdout",
     "output_type": "stream",
     "text": [
      "Loaded BERT: https://tfhub.dev/tensorflow/small_bert/bert_en_uncased_L-4_H-512_A-8/1\n",
      "Pooled Outputs Shape:(1, 512)\n",
      "Pooled Outputs Values:[ 6.5736336e-01  9.9745631e-01 -9.7849406e-05  2.9962434e-02\n",
      "  3.7829421e-02  3.3249059e-01  9.9790323e-01 -9.8571795e-01\n",
      " -1.8011615e-01 -9.6215922e-01  1.3089763e-02 -7.6979309e-01]\n",
      "Sequence Outputs Shape:(1, 128, 512)\n",
      "Sequence Outputs Values:[[ 0.06830819  0.45557562  1.1621614  ...  0.41028792  0.0500593\n",
      "  -0.39510858]\n",
      " [ 0.3731444   0.18699168  0.542082   ...  1.4074367  -0.26444644\n",
      "  -0.0275875 ]\n",
      " [ 0.73036915  0.93654436  0.2551577  ... -1.1039606   0.23814142\n",
      "   0.85410523]\n",
      " ...\n",
      " [ 0.6221207   1.5514325  -0.59081477 ... -1.8487356  -0.04348311\n",
      "   0.1687791 ]\n",
      " [ 0.50480175  0.99654615  0.02790453 ... -0.57010263  0.11440703\n",
      "  -0.16826288]\n",
      " [-0.17323332  1.0768743   1.1634693  ...  1.3083084   0.24158908\n",
      "   0.60360456]]\n"
     ]
    }
   ],
   "source": [
    "bert_results = bert_model(text_preprocessed)\n",
    "\n",
    "print(f'Loaded BERT: {tfhub_handle_encoder}')\n",
    "print(f'Pooled Outputs Shape:{bert_results[\"pooled_output\"].shape}')\n",
    "print(f'Pooled Outputs Values:{bert_results[\"pooled_output\"][0, :12]}')\n",
    "print(f'Sequence Outputs Shape:{bert_results[\"sequence_output\"].shape}')\n",
    "print(f'Sequence Outputs Values:{bert_results[\"sequence_output\"][0, :12]}')"
   ]
  },
  {
   "cell_type": "code",
   "execution_count": 22,
   "metadata": {},
   "outputs": [],
   "source": [
    "def build_classifier_model():\n",
    "  text_input = tf.keras.layers.Input(shape=(), dtype=tf.string, name='text')\n",
    "  preprocessing_layer = hub.KerasLayer(tfhub_handle_preprocess, name='preprocessing')\n",
    "  encoder_inputs = preprocessing_layer(text_input)\n",
    "  encoder = hub.KerasLayer(tfhub_handle_encoder, trainable=True, name='BERT_encoder')\n",
    "  outputs = encoder(encoder_inputs)\n",
    "  net = outputs['pooled_output']\n",
    "  net = tf.keras.layers.Dropout(0.1)(net)\n",
    "  net = tf.keras.layers.Dense(16, activation='softmax', name='classifier')(net)\n",
    "  return tf.keras.Model(text_input, net)"
   ]
  },
  {
   "cell_type": "code",
   "execution_count": 23,
   "metadata": {},
   "outputs": [
    {
     "data": {
      "text/plain": [
       "<tf.Tensor: shape=(1, 16), dtype=float32, numpy=\n",
       "array([[0.03019266, 0.03802444, 0.01278693, 0.03315994, 0.03187412,\n",
       "        0.15076512, 0.04653725, 0.03311781, 0.2559491 , 0.044524  ,\n",
       "        0.07897581, 0.03548735, 0.00885672, 0.14176892, 0.04275868,\n",
       "        0.01522114]], dtype=float32)>"
      ]
     },
     "execution_count": 23,
     "metadata": {},
     "output_type": "execute_result"
    }
   ],
   "source": [
    "classifier_model = build_classifier_model()\n",
    "bert_raw_result = classifier_model(tf.constant(text_test))\n",
    "# print(tf.sigmoid(bert_raw_result))\n",
    "bert_raw_result"
   ]
  },
  {
   "cell_type": "code",
   "execution_count": 24,
   "metadata": {},
   "outputs": [
    {
     "name": "stdout",
     "output_type": "stream",
     "text": [
      "Model: \"model\"\n",
      "__________________________________________________________________________________________________\n",
      " Layer (type)                   Output Shape         Param #     Connected to                     \n",
      "==================================================================================================\n",
      " text (InputLayer)              [(None,)]            0           []                               \n",
      "                                                                                                  \n",
      " preprocessing (KerasLayer)     {'input_word_ids':   0           ['text[0][0]']                   \n",
      "                                (None, 128),                                                      \n",
      "                                 'input_mask': (Non                                               \n",
      "                                e, 128),                                                          \n",
      "                                 'input_type_ids':                                                \n",
      "                                (None, 128)}                                                      \n",
      "                                                                                                  \n",
      " BERT_encoder (KerasLayer)      {'pooled_output': (  28763649    ['preprocessing[0][0]',          \n",
      "                                None, 512),                       'preprocessing[0][1]',          \n",
      "                                 'sequence_output':               'preprocessing[0][2]']          \n",
      "                                 (None, 128, 512),                                                \n",
      "                                 'encoder_outputs':                                               \n",
      "                                 [(None, 128, 512),                                               \n",
      "                                 (None, 128, 512),                                                \n",
      "                                 (None, 128, 512),                                                \n",
      "                                 (None, 128, 512)],                                               \n",
      "                                 'default': (None,                                                \n",
      "                                512)}                                                             \n",
      "                                                                                                  \n",
      " dropout (Dropout)              (None, 512)          0           ['BERT_encoder[0][5]']           \n",
      "                                                                                                  \n",
      " classifier (Dense)             (None, 16)           8208        ['dropout[0][0]']                \n",
      "                                                                                                  \n",
      "==================================================================================================\n",
      "Total params: 28,771,857\n",
      "Trainable params: 28,771,856\n",
      "Non-trainable params: 1\n",
      "__________________________________________________________________________________________________\n",
      "None\n"
     ]
    }
   ],
   "source": [
    "print(classifier_model.summary())  # 4 warstwy"
   ]
  },
  {
   "cell_type": "code",
   "execution_count": 25,
   "metadata": {},
   "outputs": [],
   "source": [
    "from tensorflow.keras.optimizers import Adam\n",
    "#próba z 10x większym learning rate\n",
    "classifier_model.compile(loss=\"categorical_crossentropy\", optimizer=Adam(learning_rate=0.01), metrics=[tf.keras.metrics.CategoricalAccuracy()])"
   ]
  },
  {
   "cell_type": "code",
   "execution_count": 26,
   "metadata": {},
   "outputs": [],
   "source": [
    "df_train = df_train.rename(columns={'class_no': 'label', 'posts_merged': 'text'})\n",
    "df_test = df_test.rename(columns={'class_no': 'label', 'posts_merged': 'text'})"
   ]
  },
  {
   "cell_type": "code",
   "execution_count": 29,
   "metadata": {},
   "outputs": [
    {
     "data": {
      "text/plain": [
       "<tf.Tensor: shape=(6940, 16), dtype=float32, numpy=\n",
       "array([[0., 0., 0., ..., 0., 0., 0.],\n",
       "       [1., 0., 0., ..., 0., 0., 0.],\n",
       "       [0., 0., 0., ..., 0., 0., 0.],\n",
       "       ...,\n",
       "       [0., 0., 0., ..., 0., 0., 0.],\n",
       "       [0., 0., 0., ..., 0., 0., 0.],\n",
       "       [1., 0., 0., ..., 0., 0., 0.]], dtype=float32)>"
      ]
     },
     "execution_count": 29,
     "metadata": {},
     "output_type": "execute_result"
    }
   ],
   "source": [
    "tf.one_hot(df_train.loc[:, 'label'], 16)"
   ]
  },
  {
   "cell_type": "code",
   "execution_count": 30,
   "metadata": {},
   "outputs": [],
   "source": [
    "ds = tf.data.Dataset.from_tensor_slices((df_train.loc[:, 'text'], tf.one_hot(df_train.loc[:, 'label'], 16)))\n",
    "ds_test = tf.data.Dataset.from_tensor_slices((df_test.loc[:, 'text'], tf.one_hot(df_test.loc[:, 'label'], 16)))"
   ]
  },
  {
   "cell_type": "code",
   "execution_count": 31,
   "metadata": {},
   "outputs": [
    {
     "data": {
      "text/plain": [
       "<TensorSliceDataset element_spec=(TensorSpec(shape=(), dtype=tf.string, name=None), TensorSpec(shape=(16,), dtype=tf.float32, name=None))>"
      ]
     },
     "execution_count": 31,
     "metadata": {},
     "output_type": "execute_result"
    }
   ],
   "source": [
    "ds"
   ]
  },
  {
   "cell_type": "code",
   "execution_count": 32,
   "metadata": {},
   "outputs": [
    {
     "data": {
      "text/plain": [
       "<TakeDataset element_spec=(TensorSpec(shape=(), dtype=tf.string, name=None), TensorSpec(shape=(16,), dtype=tf.float32, name=None))>"
      ]
     },
     "execution_count": 32,
     "metadata": {},
     "output_type": "execute_result"
    }
   ],
   "source": [
    "ds.take(0)"
   ]
  },
  {
   "cell_type": "code",
   "execution_count": 33,
   "metadata": {},
   "outputs": [
    {
     "data": {
      "text/plain": [
       "(TensorSpec(shape=(), dtype=tf.string, name=None),\n",
       " TensorSpec(shape=(16,), dtype=tf.float32, name=None))"
      ]
     },
     "execution_count": 33,
     "metadata": {},
     "output_type": "execute_result"
    }
   ],
   "source": [
    "ds.take(0).element_spec"
   ]
  },
  {
   "cell_type": "code",
   "execution_count": 34,
   "metadata": {},
   "outputs": [],
   "source": [
    "ds = ds.batch(8)\n",
    "ds_test = ds_test.batch(8)"
   ]
  },
  {
   "cell_type": "code",
   "execution_count": 35,
   "metadata": {},
   "outputs": [
    {
     "data": {
      "text/plain": [
       "(TensorSpec(shape=(None,), dtype=tf.string, name=None),\n",
       " TensorSpec(shape=(None, 16), dtype=tf.float32, name=None))"
      ]
     },
     "execution_count": 35,
     "metadata": {},
     "output_type": "execute_result"
    }
   ],
   "source": [
    "ds.take(0).element_spec"
   ]
  },
  {
   "cell_type": "code",
   "execution_count": 36,
   "metadata": {},
   "outputs": [],
   "source": [
    "AUTOTUNE = tf.data.AUTOTUNE\n",
    "ds = ds.cache().prefetch(buffer_size=AUTOTUNE)\n",
    "ds_test = ds_test.cache().prefetch(buffer_size=AUTOTUNE)"
   ]
  },
  {
   "cell_type": "markdown",
   "metadata": {},
   "source": [
    "Trening"
   ]
  },
  {
   "cell_type": "code",
   "execution_count": 37,
   "metadata": {},
   "outputs": [
    {
     "name": "stdout",
     "output_type": "stream",
     "text": [
      "Training model with https://tfhub.dev/tensorflow/small_bert/bert_en_uncased_L-4_H-512_A-8/1\n",
      "Epoch 1/20\n"
     ]
    },
    {
     "name": "stdout",
     "output_type": "stream",
     "text": [
      "868/868 [==============================] - 120s 132ms/step - loss: 3.9097 - categorical_accuracy: 0.1401 - val_loss: 3.6020 - val_categorical_accuracy: 0.1256\n",
      "Epoch 2/20\n",
      "868/868 [==============================] - 116s 134ms/step - loss: 3.8355 - categorical_accuracy: 0.1398 - val_loss: 3.9827 - val_categorical_accuracy: 0.1256\n",
      "Epoch 3/20\n",
      "868/868 [==============================] - 114s 132ms/step - loss: 3.8572 - categorical_accuracy: 0.1401 - val_loss: 4.0091 - val_categorical_accuracy: 0.1256\n",
      "Epoch 4/20\n",
      "868/868 [==============================] - 114s 132ms/step - loss: 3.8716 - categorical_accuracy: 0.1454 - val_loss: 3.7568 - val_categorical_accuracy: 0.1256\n",
      "Epoch 5/20\n",
      "868/868 [==============================] - 112s 129ms/step - loss: 3.8862 - categorical_accuracy: 0.1447 - val_loss: 3.3962 - val_categorical_accuracy: 0.2110\n",
      "Epoch 6/20\n",
      "868/868 [==============================] - 110s 126ms/step - loss: 3.8153 - categorical_accuracy: 0.1401 - val_loss: 3.1897 - val_categorical_accuracy: 0.1256\n",
      "Epoch 7/20\n",
      "868/868 [==============================] - 115s 133ms/step - loss: 3.8592 - categorical_accuracy: 0.1428 - val_loss: 3.9637 - val_categorical_accuracy: 0.1256\n",
      "Epoch 8/20\n",
      "868/868 [==============================] - 115s 133ms/step - loss: 3.9250 - categorical_accuracy: 0.1447 - val_loss: 4.1562 - val_categorical_accuracy: 0.1695\n",
      "Epoch 9/20\n",
      "868/868 [==============================] - 109s 125ms/step - loss: 3.9105 - categorical_accuracy: 0.1402 - val_loss: 4.1798 - val_categorical_accuracy: 0.1256\n",
      "Epoch 10/20\n",
      "868/868 [==============================] - 110s 127ms/step - loss: 3.8262 - categorical_accuracy: 0.1461 - val_loss: 3.9593 - val_categorical_accuracy: 0.1695\n",
      "Epoch 11/20\n",
      "868/868 [==============================] - 110s 126ms/step - loss: 3.8927 - categorical_accuracy: 0.1353 - val_loss: 3.1159 - val_categorical_accuracy: 0.1256\n",
      "Epoch 12/20\n",
      "868/868 [==============================] - 110s 127ms/step - loss: 3.8583 - categorical_accuracy: 0.1452 - val_loss: 3.4957 - val_categorical_accuracy: 0.2110\n",
      "Epoch 13/20\n",
      "868/868 [==============================] - 112s 129ms/step - loss: 3.8984 - categorical_accuracy: 0.1389 - val_loss: 3.8372 - val_categorical_accuracy: 0.1256\n",
      "Epoch 14/20\n",
      "868/868 [==============================] - 114s 131ms/step - loss: 3.9028 - categorical_accuracy: 0.1402 - val_loss: 3.9337 - val_categorical_accuracy: 0.1256\n",
      "Epoch 15/20\n",
      "868/868 [==============================] - 115s 133ms/step - loss: 3.8523 - categorical_accuracy: 0.1415 - val_loss: 3.2373 - val_categorical_accuracy: 0.1256\n",
      "Epoch 16/20\n",
      "868/868 [==============================] - 115s 133ms/step - loss: 3.8133 - categorical_accuracy: 0.1438 - val_loss: 3.9748 - val_categorical_accuracy: 0.1256\n",
      "Epoch 17/20\n",
      "868/868 [==============================] - 114s 131ms/step - loss: 3.9144 - categorical_accuracy: 0.1360 - val_loss: 3.5524 - val_categorical_accuracy: 0.1256\n",
      "Epoch 18/20\n",
      "868/868 [==============================] - 114s 131ms/step - loss: 3.8596 - categorical_accuracy: 0.1455 - val_loss: 3.4134 - val_categorical_accuracy: 0.1256\n",
      "Epoch 19/20\n",
      "868/868 [==============================] - 107s 123ms/step - loss: 3.9707 - categorical_accuracy: 0.1488 - val_loss: 4.0902 - val_categorical_accuracy: 0.1256\n",
      "Epoch 20/20\n",
      "868/868 [==============================] - 108s 124ms/step - loss: 3.8578 - categorical_accuracy: 0.1458 - val_loss: 3.8150 - val_categorical_accuracy: 0.1256\n"
     ]
    }
   ],
   "source": [
    "print(f'Training model with {tfhub_handle_encoder}')\n",
    "history = classifier_model.fit(x=ds, validation_data=ds_test, epochs=20)"
   ]
  },
  {
   "cell_type": "code",
   "execution_count": 38,
   "metadata": {},
   "outputs": [
    {
     "data": {
      "text/plain": [
       "[<matplotlib.lines.Line2D at 0x243865f6970>]"
      ]
     },
     "execution_count": 38,
     "metadata": {},
     "output_type": "execute_result"
    },
    {
     "data": {
      "image/png": "[encoded data removed]",
      "text/plain": [
       "<Figure size 640x480 with 1 Axes>"
      ]
     },
     "metadata": {},
     "output_type": "display_data"
    }
   ],
   "source": [
    "plt.plot(history.history['loss'])\n",
    "plt.plot(history.history['val_loss'])"
   ]
  },
  {
   "cell_type": "code",
   "execution_count": 39,
   "metadata": {},
   "outputs": [
    {
     "data": {
      "text/plain": [
       "[<matplotlib.lines.Line2D at 0x2439b2813d0>]"
      ]
     },
     "execution_count": 39,
     "metadata": {},
     "output_type": "execute_result"
    },
    {
     "data": {
      "image/png": "[encoded data removed]",
      "text/plain": [
       "<Figure size 640x480 with 1 Axes>"
      ]
     },
     "metadata": {},
     "output_type": "display_data"
    }
   ],
   "source": [
    "plt.plot(history.history['categorical_accuracy'])\n",
    "plt.plot(history.history['val_categorical_accuracy'])"
   ]
  },
  {
   "cell_type": "markdown",
   "metadata": {},
   "source": [
    "Druga próba"
   ]
  },
  {
   "cell_type": "code",
   "execution_count": 16,
   "metadata": {},
   "outputs": [
    {
     "name": "stdout",
     "output_type": "stream",
     "text": [
      "BERT model selected           : https://tfhub.dev/tensorflow/small_bert/bert_en_uncased_L-8_H-512_A-8/1\n",
      "Preprocess model auto-selected: https://tfhub.dev/tensorflow/bert_en_uncased_preprocess/3\n"
     ]
    }
   ],
   "source": [
    "#bert_model_name = 'bert_en_uncased_L-12_H-768_A-12'  ResourceExhaustedError\n",
    "#bert_model_name = 'small_bert/bert_en_uncased_L-12_H-768_A-12' ResourceExhaustedError\n",
    "bert_model_name = 'small_bert/bert_en_uncased_L-8_H-512_A-8'\n",
    "\n",
    "tfhub_handle_encoder = map_name_to_handle[bert_model_name]\n",
    "tfhub_handle_preprocess = map_model_to_preprocess[bert_model_name]\n",
    "\n",
    "print(f'BERT model selected           : {tfhub_handle_encoder}')\n",
    "print(f'Preprocess model auto-selected: {tfhub_handle_preprocess}')"
   ]
  },
  {
   "cell_type": "code",
   "execution_count": 17,
   "metadata": {},
   "outputs": [],
   "source": [
    "# bert_preprocess_model = hub.KerasLayer(tfhub_handle_preprocess)\n",
    "# bert_model = hub.KerasLayer(tfhub_handle_encoder)"
   ]
  },
  {
   "cell_type": "code",
   "execution_count": 18,
   "metadata": {},
   "outputs": [],
   "source": [
    "def build_classifier_model():\n",
    "  text_input = tf.keras.layers.Input(shape=(), dtype=tf.string, name='text')\n",
    "  preprocessing_layer = hub.KerasLayer(tfhub_handle_preprocess, name='preprocessing')\n",
    "  encoder_inputs = preprocessing_layer(text_input)\n",
    "  encoder = hub.KerasLayer(tfhub_handle_encoder, trainable=True, name='BERT_encoder')\n",
    "  outputs = encoder(encoder_inputs)\n",
    "  net = outputs['pooled_output']\n",
    "  net = tf.keras.layers.Dropout(0.1)(net)\n",
    "  net = tf.keras.layers.Dense(16, activation='softmax', name='classifier')(net)\n",
    "  return tf.keras.Model(text_input, net)"
   ]
  },
  {
   "cell_type": "code",
   "execution_count": 21,
   "metadata": {},
   "outputs": [
    {
     "name": "stdout",
     "output_type": "stream",
     "text": [
      "Model: \"model\"\n",
      "__________________________________________________________________________________________________\n",
      " Layer (type)                   Output Shape         Param #     Connected to                     \n",
      "==================================================================================================\n",
      " text (InputLayer)              [(None,)]            0           []                               \n",
      "                                                                                                  \n",
      " preprocessing (KerasLayer)     {'input_type_ids':   0           ['text[0][0]']                   \n",
      "                                (None, 128),                                                      \n",
      "                                 'input_mask': (Non                                               \n",
      "                                e, 128),                                                          \n",
      "                                 'input_word_ids':                                                \n",
      "                                (None, 128)}                                                      \n",
      "                                                                                                  \n",
      " BERT_encoder (KerasLayer)      {'sequence_output':  41373185    ['preprocessing[0][0]',          \n",
      "                                 (None, 128, 512),                'preprocessing[0][1]',          \n",
      "                                 'default': (None,                'preprocessing[0][2]']          \n",
      "                                512),                                                             \n",
      "                                 'encoder_outputs':                                               \n",
      "                                 [(None, 128, 512),                                               \n",
      "                                 (None, 128, 512),                                                \n",
      "                                 (None, 128, 512),                                                \n",
      "                                 (None, 128, 512),                                                \n",
      "                                 (None, 128, 512),                                                \n",
      "                                 (None, 128, 512),                                                \n",
      "                                 (None, 128, 512),                                                \n",
      "                                 (None, 128, 512)],                                               \n",
      "                                 'pooled_output': (                                               \n",
      "                                None, 512)}                                                       \n",
      "                                                                                                  \n",
      " dropout (Dropout)              (None, 512)          0           ['BERT_encoder[0][9]']           \n",
      "                                                                                                  \n",
      " classifier (Dense)             (None, 16)           8208        ['dropout[0][0]']                \n",
      "                                                                                                  \n",
      "==================================================================================================\n",
      "Total params: 41,381,393\n",
      "Trainable params: 41,381,392\n",
      "Non-trainable params: 1\n",
      "__________________________________________________________________________________________________\n",
      "None\n"
     ]
    }
   ],
   "source": [
    "classifier_model2 = build_classifier_model()\n",
    "print(classifier_model2.summary())   #8 warstw"
   ]
  },
  {
   "cell_type": "code",
   "execution_count": 22,
   "metadata": {},
   "outputs": [],
   "source": [
    "classifier_model2.compile(loss=\"categorical_crossentropy\", optimizer=\"adam\", metrics=[tf.keras.metrics.CategoricalAccuracy()])"
   ]
  },
  {
   "cell_type": "code",
   "execution_count": 23,
   "metadata": {},
   "outputs": [],
   "source": [
    "df_train = df_train.rename(columns={'class_no': 'label', 'posts_merged': 'text'})\n",
    "df_test = df_test.rename(columns={'class_no': 'label', 'posts_merged': 'text'})"
   ]
  },
  {
   "cell_type": "code",
   "execution_count": 43,
   "metadata": {},
   "outputs": [
    {
     "data": {
      "text/plain": [
       "(3669    '182994   Tight inbreeding is used to identify...\n",
       " Name: text, dtype: string,\n",
       " TensorShape([1, 16]))"
      ]
     },
     "execution_count": 43,
     "metadata": {},
     "output_type": "execute_result"
    }
   ],
   "source": [
    "df_test.loc[:, 'text'].iloc[0:1], tf.one_hot(df_test.loc[:, 'label'].iloc[0:1], 16).shape"
   ]
  },
  {
   "cell_type": "code",
   "execution_count": 32,
   "metadata": {},
   "outputs": [
    {
     "data": {
      "text/plain": [
       "Index([3669, 2523, 8117,  180, 7092, 6763,  648, 3665,  411, 3442,  371, 5964,\n",
       "       5775, 3190,  794, 7570, 7622, 3993, 4900, 1229, 5606, 5609, 1707, 6076,\n",
       "       7628, 4450, 3510, 8041,  862,  311, 2827, 2403, 3040, 5408, 5545, 7748,\n",
       "        298, 8361, 5153, 7567, 3484, 3580, 4123, 4667, 3331, 5516, 2793, 3524,\n",
       "       5560, 2086, 5176, 3134, 6788, 2602, 3123, 2870, 8131, 1597, 5284, 6051,\n",
       "       3909, 1794, 3148, 1381, 6193, 8532, 5521, 3609, 6117, 1765,  865, 4636,\n",
       "       4061, 5078, 4832, 8665, 2446, 7259, 5928, 1808, 3624, 4160, 7034, 1483,\n",
       "       2447, 1848, 7979, 2276, 7543, 3120, 3392, 1812, 7558, 2913, 5802, 2906,\n",
       "       6717, 3885, 5574, 2952],\n",
       "      dtype='int64')"
      ]
     },
     "execution_count": 32,
     "metadata": {},
     "output_type": "execute_result"
    }
   ],
   "source": [
    "df_test.index[:100]"
   ]
  },
  {
   "cell_type": "code",
   "execution_count": 45,
   "metadata": {},
   "outputs": [
    {
     "name": "stdout",
     "output_type": "stream",
     "text": [
      "Inferencja na jednej próbce zajęła 43.721200000049976 milisekund (mediana ze 100 inferencji).\n"
     ]
    }
   ],
   "source": [
    "import statistics\n",
    "t = []\n",
    "for idx in range(100):\n",
    "    s = tf.data.Dataset.from_tensor_slices((df_test.loc[:, 'text'].iloc[idx:idx+1], tf.one_hot(df_test.loc[:, 'label'].iloc[idx:idx+1], 16)))\n",
    "    s = s.batch(1)\n",
    "    AUTOTUNE = tf.data.AUTOTUNE\n",
    "    s = s.cache().prefetch(buffer_size=AUTOTUNE)\n",
    "    start = timer()\n",
    "    classifier_model2.predict(s, verbose=0)\n",
    "    end = timer()\n",
    "    t.append((end-start)*1000)\n",
    "med = statistics.median(t)\n",
    "print(\"Inferencja na jednej próbce zajęła\", med, \"milisekund (mediana ze 100 inferencji).\")   #czas inferencji"
   ]
  },
  {
   "cell_type": "code",
   "execution_count": 39,
   "metadata": {},
   "outputs": [],
   "source": [
    "#Datasety\n",
    "ds = tf.data.Dataset.from_tensor_slices((df_train.loc[:, 'text'], tf.one_hot(df_train.loc[:, 'label'], 16)))\n",
    "ds_test = tf.data.Dataset.from_tensor_slices((df_test.loc[:, 'text'], tf.one_hot(df_test.loc[:, 'label'], 16)))"
   ]
  },
  {
   "cell_type": "code",
   "execution_count": 40,
   "metadata": {},
   "outputs": [
    {
     "data": {
      "text/plain": [
       "<TakeDataset element_spec=(TensorSpec(shape=(), dtype=tf.string, name=None), TensorSpec(shape=(16,), dtype=tf.float32, name=None))>"
      ]
     },
     "execution_count": 40,
     "metadata": {},
     "output_type": "execute_result"
    }
   ],
   "source": [
    "ds_test.take(0)"
   ]
  },
  {
   "cell_type": "code",
   "execution_count": 41,
   "metadata": {},
   "outputs": [
    {
     "data": {
      "text/plain": [
       "((TensorSpec(shape=(), dtype=tf.string, name=None),\n",
       "  TensorSpec(shape=(16,), dtype=tf.float32, name=None)),\n",
       " (TensorSpec(shape=(), dtype=tf.string, name=None),\n",
       "  TensorSpec(shape=(16,), dtype=tf.float32, name=None)))"
      ]
     },
     "execution_count": 41,
     "metadata": {},
     "output_type": "execute_result"
    }
   ],
   "source": [
    "ds.take(0).element_spec, ds_test.take(0).element_spec"
   ]
  },
  {
   "cell_type": "code",
   "execution_count": 42,
   "metadata": {},
   "outputs": [],
   "source": [
    "ds = ds.batch(8)\n",
    "ds_test = ds_test.batch(8)"
   ]
  },
  {
   "cell_type": "code",
   "execution_count": 43,
   "metadata": {},
   "outputs": [
    {
     "data": {
      "text/plain": [
       "((TensorSpec(shape=(None,), dtype=tf.string, name=None),\n",
       "  TensorSpec(shape=(None, 16), dtype=tf.float32, name=None)),\n",
       " (TensorSpec(shape=(None,), dtype=tf.string, name=None),\n",
       "  TensorSpec(shape=(None, 16), dtype=tf.float32, name=None)))"
      ]
     },
     "execution_count": 43,
     "metadata": {},
     "output_type": "execute_result"
    }
   ],
   "source": [
    "ds.take(0).element_spec, ds_test.take(0).element_spec"
   ]
  },
  {
   "cell_type": "code",
   "execution_count": 44,
   "metadata": {},
   "outputs": [],
   "source": [
    "AUTOTUNE = tf.data.AUTOTUNE\n",
    "ds = ds.cache().prefetch(buffer_size=AUTOTUNE)\n",
    "ds_test = ds_test.cache().prefetch(buffer_size=AUTOTUNE)"
   ]
  },
  {
   "cell_type": "code",
   "execution_count": 45,
   "metadata": {},
   "outputs": [
    {
     "data": {
      "text/plain": [
       "((TensorSpec(shape=(None,), dtype=tf.string, name=None),\n",
       "  TensorSpec(shape=(None, 16), dtype=tf.float32, name=None)),\n",
       " (TensorSpec(shape=(None,), dtype=tf.string, name=None),\n",
       "  TensorSpec(shape=(None, 16), dtype=tf.float32, name=None)))"
      ]
     },
     "execution_count": 45,
     "metadata": {},
     "output_type": "execute_result"
    }
   ],
   "source": [
    "ds.take(0).element_spec, ds_test.take(0).element_spec"
   ]
  },
  {
   "cell_type": "markdown",
   "metadata": {},
   "source": [
    "Trening"
   ]
  },
  {
   "cell_type": "code",
   "execution_count": 27,
   "metadata": {},
   "outputs": [
    {
     "name": "stdout",
     "output_type": "stream",
     "text": [
      "Training model with https://tfhub.dev/tensorflow/small_bert/bert_en_uncased_L-8_H-512_A-8/1\n",
      "Epoch 1/200\n",
      "868/868 [==============================] - 160s 171ms/step - loss: 2.5158 - categorical_accuracy: 0.1634 - val_loss: 2.4705 - val_categorical_accuracy: 0.1695\n",
      "Epoch 2/200\n",
      "868/868 [==============================] - 149s 172ms/step - loss: 2.5014 - categorical_accuracy: 0.1644 - val_loss: 2.4757 - val_categorical_accuracy: 0.1695\n",
      "Epoch 3/200\n",
      "868/868 [==============================] - 149s 172ms/step - loss: 2.4884 - categorical_accuracy: 0.1643 - val_loss: 2.4725 - val_categorical_accuracy: 0.1695\n",
      "Epoch 4/200\n",
      "868/868 [==============================] - 148s 171ms/step - loss: 2.4892 - categorical_accuracy: 0.1683 - val_loss: 2.4763 - val_categorical_accuracy: 0.1695\n",
      "Epoch 5/200\n",
      "868/868 [==============================] - 149s 171ms/step - loss: 2.4764 - categorical_accuracy: 0.1741 - val_loss: 2.4660 - val_categorical_accuracy: 0.1695\n",
      "Epoch 6/200\n",
      "868/868 [==============================] - 148s 171ms/step - loss: 2.4675 - categorical_accuracy: 0.1745 - val_loss: 2.4146 - val_categorical_accuracy: 0.1695\n",
      "Epoch 7/200\n",
      "868/868 [==============================] - 149s 172ms/step - loss: 2.4702 - categorical_accuracy: 0.1707 - val_loss: 2.4609 - val_categorical_accuracy: 0.1695\n",
      "Epoch 8/200\n",
      "868/868 [==============================] - 148s 171ms/step - loss: 2.4639 - categorical_accuracy: 0.1713 - val_loss: 2.4596 - val_categorical_accuracy: 0.1695\n",
      "Epoch 9/200\n",
      "868/868 [==============================] - 149s 171ms/step - loss: 2.4547 - categorical_accuracy: 0.1795 - val_loss: 2.4665 - val_categorical_accuracy: 0.1695\n",
      "Epoch 10/200\n",
      "868/868 [==============================] - 149s 171ms/step - loss: 2.4616 - categorical_accuracy: 0.1690 - val_loss: 2.4659 - val_categorical_accuracy: 0.1695\n",
      "Epoch 11/200\n",
      "868/868 [==============================] - 149s 171ms/step - loss: 2.4588 - categorical_accuracy: 0.1716 - val_loss: 2.4553 - val_categorical_accuracy: 0.1695\n",
      "Epoch 12/200\n",
      "868/868 [==============================] - 148s 171ms/step - loss: 2.4552 - categorical_accuracy: 0.1733 - val_loss: 2.4604 - val_categorical_accuracy: 0.1695\n",
      "Epoch 13/200\n",
      "868/868 [==============================] - 149s 171ms/step - loss: 2.4491 - categorical_accuracy: 0.1739 - val_loss: 2.4592 - val_categorical_accuracy: 0.1695\n",
      "Epoch 14/200\n",
      "868/868 [==============================] - 149s 172ms/step - loss: 2.4480 - categorical_accuracy: 0.1744 - val_loss: 2.4571 - val_categorical_accuracy: 0.1695\n",
      "Epoch 15/200\n",
      "868/868 [==============================] - 149s 171ms/step - loss: 2.4510 - categorical_accuracy: 0.1731 - val_loss: 2.4616 - val_categorical_accuracy: 0.1695\n",
      "Epoch 16/200\n",
      "868/868 [==============================] - 149s 171ms/step - loss: 2.4440 - categorical_accuracy: 0.1741 - val_loss: 2.4697 - val_categorical_accuracy: 0.1695\n",
      "Epoch 17/200\n",
      "868/868 [==============================] - 149s 172ms/step - loss: 2.4461 - categorical_accuracy: 0.1718 - val_loss: 2.4705 - val_categorical_accuracy: 0.1695\n",
      "Epoch 18/200\n",
      "868/868 [==============================] - 149s 172ms/step - loss: 2.4462 - categorical_accuracy: 0.1720 - val_loss: 2.4584 - val_categorical_accuracy: 0.1695\n",
      "Epoch 19/200\n",
      "868/868 [==============================] - 148s 171ms/step - loss: 2.4456 - categorical_accuracy: 0.1758 - val_loss: 2.4594 - val_categorical_accuracy: 0.1695\n",
      "Epoch 20/200\n",
      "868/868 [==============================] - 149s 171ms/step - loss: 2.4486 - categorical_accuracy: 0.1752 - val_loss: 2.4571 - val_categorical_accuracy: 0.1695\n",
      "Epoch 21/200\n",
      "868/868 [==============================] - 157s 181ms/step - loss: 2.4456 - categorical_accuracy: 0.1707 - val_loss: 2.4586 - val_categorical_accuracy: 0.1695\n",
      "Epoch 22/200\n",
      "868/868 [==============================] - 158s 182ms/step - loss: 2.4400 - categorical_accuracy: 0.1729 - val_loss: 2.4563 - val_categorical_accuracy: 0.1695\n",
      "Epoch 23/200\n",
      "868/868 [==============================] - 156s 180ms/step - loss: 2.4415 - categorical_accuracy: 0.1735 - val_loss: 2.4540 - val_categorical_accuracy: 0.1695\n",
      "Epoch 24/200\n",
      "868/868 [==============================] - 158s 182ms/step - loss: 2.4442 - categorical_accuracy: 0.1781 - val_loss: 2.4569 - val_categorical_accuracy: 0.1695\n",
      "Epoch 25/200\n",
      "868/868 [==============================] - 155s 178ms/step - loss: 2.4463 - categorical_accuracy: 0.1741 - val_loss: 2.4649 - val_categorical_accuracy: 0.1695\n",
      "Epoch 26/200\n",
      "868/868 [==============================] - 155s 179ms/step - loss: 2.4431 - categorical_accuracy: 0.1718 - val_loss: 2.4605 - val_categorical_accuracy: 0.1695\n",
      "Epoch 27/200\n",
      "868/868 [==============================] - 155s 179ms/step - loss: 2.4429 - categorical_accuracy: 0.1709 - val_loss: 2.4603 - val_categorical_accuracy: 0.1695\n",
      "Epoch 28/200\n",
      "868/868 [==============================] - 156s 179ms/step - loss: 2.4405 - categorical_accuracy: 0.1697 - val_loss: 2.4542 - val_categorical_accuracy: 0.1695\n",
      "Epoch 29/200\n",
      "868/868 [==============================] - 155s 179ms/step - loss: 2.4404 - categorical_accuracy: 0.1735 - val_loss: 2.4558 - val_categorical_accuracy: 0.1695\n",
      "Epoch 30/200\n",
      "868/868 [==============================] - 155s 179ms/step - loss: 2.4413 - categorical_accuracy: 0.1748 - val_loss: 2.4502 - val_categorical_accuracy: 0.1695\n",
      "Epoch 31/200\n",
      "868/868 [==============================] - 156s 180ms/step - loss: 2.4383 - categorical_accuracy: 0.1754 - val_loss: 2.4577 - val_categorical_accuracy: 0.1695\n",
      "Epoch 32/200\n",
      "868/868 [==============================] - 155s 179ms/step - loss: 2.4443 - categorical_accuracy: 0.1741 - val_loss: 2.4625 - val_categorical_accuracy: 0.1695\n",
      "Epoch 33/200\n",
      "868/868 [==============================] - 155s 179ms/step - loss: 2.4384 - categorical_accuracy: 0.1749 - val_loss: 2.4708 - val_categorical_accuracy: 0.1695\n",
      "Epoch 34/200\n",
      "868/868 [==============================] - 155s 178ms/step - loss: 2.4429 - categorical_accuracy: 0.1744 - val_loss: 2.4568 - val_categorical_accuracy: 0.1695\n",
      "Epoch 35/200\n",
      "868/868 [==============================] - 155s 179ms/step - loss: 2.4377 - categorical_accuracy: 0.1729 - val_loss: 2.4625 - val_categorical_accuracy: 0.1695\n",
      "Epoch 36/200\n",
      "868/868 [==============================] - 155s 178ms/step - loss: 2.4386 - categorical_accuracy: 0.1744 - val_loss: 2.4527 - val_categorical_accuracy: 0.1695\n",
      "Epoch 37/200\n",
      "868/868 [==============================] - 155s 179ms/step - loss: 2.4404 - categorical_accuracy: 0.1710 - val_loss: 2.4598 - val_categorical_accuracy: 0.1695\n",
      "Epoch 38/200\n",
      "868/868 [==============================] - 159s 183ms/step - loss: 2.4387 - categorical_accuracy: 0.1696 - val_loss: 2.4552 - val_categorical_accuracy: 0.1695\n",
      "Epoch 39/200\n",
      "868/868 [==============================] - 158s 182ms/step - loss: 2.4403 - categorical_accuracy: 0.1716 - val_loss: 2.4645 - val_categorical_accuracy: 0.1695\n",
      "Epoch 40/200\n",
      "868/868 [==============================] - 159s 183ms/step - loss: 2.4400 - categorical_accuracy: 0.1758 - val_loss: 2.4649 - val_categorical_accuracy: 0.1695\n",
      "Epoch 41/200\n",
      "868/868 [==============================] - 158s 182ms/step - loss: 2.4385 - categorical_accuracy: 0.1666 - val_loss: 2.4637 - val_categorical_accuracy: 0.1695\n",
      "Epoch 42/200\n",
      "868/868 [==============================] - 158s 182ms/step - loss: 2.4399 - categorical_accuracy: 0.1706 - val_loss: 2.4541 - val_categorical_accuracy: 0.1695\n",
      "Epoch 43/200\n",
      "868/868 [==============================] - 158s 182ms/step - loss: 2.4376 - categorical_accuracy: 0.1735 - val_loss: 2.4572 - val_categorical_accuracy: 0.1695\n",
      "Epoch 44/200\n",
      "868/868 [==============================] - 159s 183ms/step - loss: 2.4431 - categorical_accuracy: 0.1745 - val_loss: 2.4635 - val_categorical_accuracy: 0.1695\n",
      "Epoch 45/200\n",
      "868/868 [==============================] - 158s 182ms/step - loss: 2.4367 - categorical_accuracy: 0.1774 - val_loss: 2.4595 - val_categorical_accuracy: 0.1695\n",
      "Epoch 46/200\n",
      "868/868 [==============================] - 156s 179ms/step - loss: 2.4377 - categorical_accuracy: 0.1767 - val_loss: 2.4597 - val_categorical_accuracy: 0.1695\n",
      "Epoch 47/200\n",
      "868/868 [==============================] - 156s 180ms/step - loss: 2.4406 - categorical_accuracy: 0.1703 - val_loss: 2.4568 - val_categorical_accuracy: 0.1695\n",
      "Epoch 48/200\n",
      "868/868 [==============================] - 155s 179ms/step - loss: 2.4345 - categorical_accuracy: 0.1810 - val_loss: 2.4587 - val_categorical_accuracy: 0.1695\n",
      "Epoch 49/200\n",
      "868/868 [==============================] - 155s 179ms/step - loss: 2.4408 - categorical_accuracy: 0.1722 - val_loss: 2.4659 - val_categorical_accuracy: 0.1695\n",
      "Epoch 50/200\n",
      "868/868 [==============================] - 156s 179ms/step - loss: 2.4414 - categorical_accuracy: 0.1726 - val_loss: 2.4605 - val_categorical_accuracy: 0.1695\n",
      "Epoch 51/200\n",
      "868/868 [==============================] - 156s 180ms/step - loss: 2.4373 - categorical_accuracy: 0.1756 - val_loss: 2.4519 - val_categorical_accuracy: 0.1695\n",
      "Epoch 52/200\n",
      "868/868 [==============================] - 156s 179ms/step - loss: 2.4358 - categorical_accuracy: 0.1781 - val_loss: 2.4658 - val_categorical_accuracy: 0.1695\n",
      "Epoch 53/200\n",
      "868/868 [==============================] - 156s 180ms/step - loss: 2.4386 - categorical_accuracy: 0.1758 - val_loss: 2.4664 - val_categorical_accuracy: 0.1695\n",
      "Epoch 54/200\n",
      "868/868 [==============================] - 158s 182ms/step - loss: 2.4381 - categorical_accuracy: 0.1780 - val_loss: 2.4644 - val_categorical_accuracy: 0.1695\n",
      "Epoch 55/200\n",
      "868/868 [==============================] - 155s 179ms/step - loss: 2.4407 - categorical_accuracy: 0.1693 - val_loss: 2.4547 - val_categorical_accuracy: 0.1695\n",
      "Epoch 56/200\n",
      "868/868 [==============================] - 156s 180ms/step - loss: 2.4368 - categorical_accuracy: 0.1756 - val_loss: 2.4688 - val_categorical_accuracy: 0.1695\n",
      "Epoch 57/200\n",
      "868/868 [==============================] - 157s 181ms/step - loss: 2.4404 - categorical_accuracy: 0.1687 - val_loss: 2.4685 - val_categorical_accuracy: 0.1695\n",
      "Epoch 58/200\n",
      "868/868 [==============================] - 156s 179ms/step - loss: 2.4422 - categorical_accuracy: 0.1702 - val_loss: 2.4659 - val_categorical_accuracy: 0.1695\n",
      "Epoch 59/200\n",
      "868/868 [==============================] - 156s 180ms/step - loss: 2.4395 - categorical_accuracy: 0.1690 - val_loss: 2.4624 - val_categorical_accuracy: 0.1695\n",
      "Epoch 60/200\n",
      "868/868 [==============================] - 156s 179ms/step - loss: 2.4362 - categorical_accuracy: 0.1774 - val_loss: 2.4649 - val_categorical_accuracy: 0.1695\n",
      "Epoch 61/200\n",
      "868/868 [==============================] - 155s 179ms/step - loss: 2.4356 - categorical_accuracy: 0.1758 - val_loss: 2.4611 - val_categorical_accuracy: 0.1695\n",
      "Epoch 62/200\n",
      "868/868 [==============================] - 155s 179ms/step - loss: 2.4402 - categorical_accuracy: 0.1767 - val_loss: 2.4564 - val_categorical_accuracy: 0.1695\n",
      "Epoch 63/200\n",
      "868/868 [==============================] - 159s 183ms/step - loss: 2.4382 - categorical_accuracy: 0.1728 - val_loss: 2.4680 - val_categorical_accuracy: 0.1695\n",
      "Epoch 64/200\n",
      "868/868 [==============================] - 155s 178ms/step - loss: 2.4392 - categorical_accuracy: 0.1772 - val_loss: 2.4683 - val_categorical_accuracy: 0.1695\n",
      "Epoch 65/200\n",
      "868/868 [==============================] - 158s 182ms/step - loss: 2.4355 - categorical_accuracy: 0.1736 - val_loss: 2.4495 - val_categorical_accuracy: 0.1695\n",
      "Epoch 66/200\n",
      "868/868 [==============================] - 156s 179ms/step - loss: 2.4409 - categorical_accuracy: 0.1718 - val_loss: 2.4597 - val_categorical_accuracy: 0.1695\n",
      "Epoch 67/200\n",
      "868/868 [==============================] - 158s 182ms/step - loss: 2.4391 - categorical_accuracy: 0.1774 - val_loss: 2.4611 - val_categorical_accuracy: 0.1695\n",
      "Epoch 68/200\n",
      "868/868 [==============================] - 155s 179ms/step - loss: 2.4398 - categorical_accuracy: 0.1794 - val_loss: 2.4580 - val_categorical_accuracy: 0.1695\n",
      "Epoch 69/200\n",
      "868/868 [==============================] - 155s 179ms/step - loss: 2.4432 - categorical_accuracy: 0.1671 - val_loss: 2.4562 - val_categorical_accuracy: 0.1695\n",
      "Epoch 70/200\n",
      "868/868 [==============================] - 155s 179ms/step - loss: 2.4380 - categorical_accuracy: 0.1780 - val_loss: 2.4505 - val_categorical_accuracy: 0.1695\n",
      "Epoch 71/200\n",
      "868/868 [==============================] - 155s 179ms/step - loss: 2.4412 - categorical_accuracy: 0.1754 - val_loss: 2.4481 - val_categorical_accuracy: 0.1695\n",
      "Epoch 72/200\n",
      "868/868 [==============================] - 155s 178ms/step - loss: 2.4387 - categorical_accuracy: 0.1745 - val_loss: 2.4610 - val_categorical_accuracy: 0.1695\n",
      "Epoch 73/200\n",
      "868/868 [==============================] - 157s 181ms/step - loss: 2.4394 - categorical_accuracy: 0.1723 - val_loss: 2.4583 - val_categorical_accuracy: 0.1695\n",
      "Epoch 74/200\n",
      "868/868 [==============================] - 155s 179ms/step - loss: 2.4370 - categorical_accuracy: 0.1778 - val_loss: 2.4599 - val_categorical_accuracy: 0.1695\n",
      "Epoch 75/200\n",
      "868/868 [==============================] - 154s 177ms/step - loss: 2.4426 - categorical_accuracy: 0.1720 - val_loss: 2.4589 - val_categorical_accuracy: 0.1695\n",
      "Epoch 76/200\n",
      "868/868 [==============================] - 155s 178ms/step - loss: 2.4375 - categorical_accuracy: 0.1749 - val_loss: 2.4588 - val_categorical_accuracy: 0.1695\n",
      "Epoch 77/200\n",
      "868/868 [==============================] - 157s 181ms/step - loss: 2.4382 - categorical_accuracy: 0.1738 - val_loss: 2.4586 - val_categorical_accuracy: 0.1695\n",
      "Epoch 78/200\n",
      "868/868 [==============================] - 156s 179ms/step - loss: 2.4351 - categorical_accuracy: 0.1749 - val_loss: 2.4636 - val_categorical_accuracy: 0.1695\n",
      "Epoch 79/200\n",
      "868/868 [==============================] - 158s 182ms/step - loss: 2.4373 - categorical_accuracy: 0.1751 - val_loss: 2.4638 - val_categorical_accuracy: 0.1695\n",
      "Epoch 80/200\n",
      "868/868 [==============================] - 155s 178ms/step - loss: 2.4385 - categorical_accuracy: 0.1748 - val_loss: 2.4562 - val_categorical_accuracy: 0.1695\n",
      "Epoch 81/200\n",
      "868/868 [==============================] - 156s 179ms/step - loss: 2.4400 - categorical_accuracy: 0.1746 - val_loss: 2.4571 - val_categorical_accuracy: 0.1695\n",
      "Epoch 82/200\n",
      "868/868 [==============================] - 157s 181ms/step - loss: 2.4363 - categorical_accuracy: 0.1735 - val_loss: 2.4528 - val_categorical_accuracy: 0.1695\n",
      "Epoch 83/200\n",
      "868/868 [==============================] - 155s 179ms/step - loss: 2.4412 - categorical_accuracy: 0.1728 - val_loss: 2.4540 - val_categorical_accuracy: 0.1695\n",
      "Epoch 84/200\n",
      "868/868 [==============================] - 155s 178ms/step - loss: 2.4366 - categorical_accuracy: 0.1744 - val_loss: 2.4701 - val_categorical_accuracy: 0.1695\n",
      "Epoch 85/200\n",
      "868/868 [==============================] - 155s 178ms/step - loss: 2.4372 - categorical_accuracy: 0.1754 - val_loss: 2.4548 - val_categorical_accuracy: 0.1695\n",
      "Epoch 86/200\n",
      "868/868 [==============================] - 157s 181ms/step - loss: 2.4388 - categorical_accuracy: 0.1771 - val_loss: 2.4523 - val_categorical_accuracy: 0.1695\n",
      "Epoch 87/200\n",
      "868/868 [==============================] - 158s 182ms/step - loss: 2.4394 - categorical_accuracy: 0.1754 - val_loss: 2.4613 - val_categorical_accuracy: 0.1695\n",
      "Epoch 88/200\n",
      "868/868 [==============================] - 157s 180ms/step - loss: 2.4400 - categorical_accuracy: 0.1695 - val_loss: 2.4657 - val_categorical_accuracy: 0.1695\n",
      "Epoch 89/200\n",
      "868/868 [==============================] - 155s 178ms/step - loss: 2.4402 - categorical_accuracy: 0.1726 - val_loss: 2.4665 - val_categorical_accuracy: 0.1695\n",
      "Epoch 90/200\n",
      "868/868 [==============================] - 153s 177ms/step - loss: 2.4432 - categorical_accuracy: 0.1707 - val_loss: 2.4622 - val_categorical_accuracy: 0.1695\n",
      "Epoch 91/200\n",
      "868/868 [==============================] - 154s 178ms/step - loss: 2.4397 - categorical_accuracy: 0.1777 - val_loss: 2.4601 - val_categorical_accuracy: 0.1695\n",
      "Epoch 92/200\n",
      "868/868 [==============================] - 155s 179ms/step - loss: 2.4374 - categorical_accuracy: 0.1739 - val_loss: 2.4631 - val_categorical_accuracy: 0.1695\n",
      "Epoch 93/200\n",
      "868/868 [==============================] - 157s 180ms/step - loss: 2.4397 - categorical_accuracy: 0.1741 - val_loss: 2.4662 - val_categorical_accuracy: 0.1695\n",
      "Epoch 94/200\n",
      "868/868 [==============================] - 155s 179ms/step - loss: 2.4397 - categorical_accuracy: 0.1720 - val_loss: 2.4533 - val_categorical_accuracy: 0.1695\n",
      "Epoch 95/200\n",
      "868/868 [==============================] - 155s 179ms/step - loss: 2.4394 - categorical_accuracy: 0.1744 - val_loss: 2.4668 - val_categorical_accuracy: 0.1695\n",
      "Epoch 96/200\n",
      "868/868 [==============================] - 155s 179ms/step - loss: 2.4393 - categorical_accuracy: 0.1712 - val_loss: 2.4586 - val_categorical_accuracy: 0.1695\n",
      "Epoch 97/200\n",
      "868/868 [==============================] - 155s 179ms/step - loss: 2.4371 - categorical_accuracy: 0.1751 - val_loss: 2.4659 - val_categorical_accuracy: 0.1695\n",
      "Epoch 98/200\n",
      "868/868 [==============================] - 157s 181ms/step - loss: 2.4385 - categorical_accuracy: 0.1769 - val_loss: 2.4562 - val_categorical_accuracy: 0.1695\n",
      "Epoch 99/200\n",
      "868/868 [==============================] - 155s 179ms/step - loss: 2.4394 - categorical_accuracy: 0.1732 - val_loss: 2.4579 - val_categorical_accuracy: 0.1695\n",
      "Epoch 100/200\n",
      "868/868 [==============================] - 155s 178ms/step - loss: 2.4374 - categorical_accuracy: 0.1758 - val_loss: 2.4615 - val_categorical_accuracy: 0.1695\n",
      "Epoch 101/200\n",
      "868/868 [==============================] - 155s 178ms/step - loss: 2.4444 - categorical_accuracy: 0.1769 - val_loss: 2.4586 - val_categorical_accuracy: 0.1695\n",
      "Epoch 102/200\n",
      "868/868 [==============================] - 156s 179ms/step - loss: 2.4423 - categorical_accuracy: 0.1754 - val_loss: 2.4626 - val_categorical_accuracy: 0.1695\n",
      "Epoch 103/200\n",
      "868/868 [==============================] - 156s 180ms/step - loss: 2.4415 - categorical_accuracy: 0.1722 - val_loss: 2.4615 - val_categorical_accuracy: 0.1695\n",
      "Epoch 104/200\n",
      "868/868 [==============================] - 155s 178ms/step - loss: 2.4394 - categorical_accuracy: 0.1725 - val_loss: 2.4549 - val_categorical_accuracy: 0.1695\n",
      "Epoch 105/200\n",
      "868/868 [==============================] - 155s 179ms/step - loss: 2.4371 - categorical_accuracy: 0.1748 - val_loss: 2.4567 - val_categorical_accuracy: 0.1695\n",
      "Epoch 106/200\n",
      "868/868 [==============================] - 155s 178ms/step - loss: 2.4389 - categorical_accuracy: 0.1752 - val_loss: 2.4576 - val_categorical_accuracy: 0.1695\n",
      "Epoch 107/200\n",
      "868/868 [==============================] - 155s 179ms/step - loss: 2.4351 - categorical_accuracy: 0.1744 - val_loss: 2.4601 - val_categorical_accuracy: 0.1695\n",
      "Epoch 108/200\n",
      "868/868 [==============================] - 156s 180ms/step - loss: 2.4429 - categorical_accuracy: 0.1755 - val_loss: 2.4614 - val_categorical_accuracy: 0.1695\n",
      "Epoch 109/200\n",
      "868/868 [==============================] - 155s 179ms/step - loss: 2.4368 - categorical_accuracy: 0.1733 - val_loss: 2.4569 - val_categorical_accuracy: 0.1695\n",
      "Epoch 110/200\n",
      "868/868 [==============================] - 157s 181ms/step - loss: 2.4394 - categorical_accuracy: 0.1752 - val_loss: 2.4682 - val_categorical_accuracy: 0.1695\n",
      "Epoch 111/200\n",
      "868/868 [==============================] - 155s 179ms/step - loss: 2.4379 - categorical_accuracy: 0.1746 - val_loss: 2.4598 - val_categorical_accuracy: 0.1695\n",
      "Epoch 112/200\n",
      "868/868 [==============================] - 157s 181ms/step - loss: 2.4376 - categorical_accuracy: 0.1748 - val_loss: 2.4634 - val_categorical_accuracy: 0.1695\n",
      "Epoch 113/200\n",
      "868/868 [==============================] - 155s 178ms/step - loss: 2.4383 - categorical_accuracy: 0.1780 - val_loss: 2.4524 - val_categorical_accuracy: 0.1695\n",
      "Epoch 114/200\n",
      "868/868 [==============================] - 155s 178ms/step - loss: 2.4409 - categorical_accuracy: 0.1745 - val_loss: 2.4558 - val_categorical_accuracy: 0.1695\n",
      "Epoch 115/200\n",
      "868/868 [==============================] - 155s 179ms/step - loss: 2.4368 - categorical_accuracy: 0.1736 - val_loss: 2.4526 - val_categorical_accuracy: 0.1695\n",
      "Epoch 116/200\n",
      "868/868 [==============================] - 155s 179ms/step - loss: 2.4374 - categorical_accuracy: 0.1703 - val_loss: 2.4627 - val_categorical_accuracy: 0.1695\n",
      "Epoch 117/200\n",
      "868/868 [==============================] - 156s 180ms/step - loss: 2.4341 - categorical_accuracy: 0.1754 - val_loss: 2.4663 - val_categorical_accuracy: 0.1695\n",
      "Epoch 118/200\n",
      "868/868 [==============================] - 157s 181ms/step - loss: 2.4379 - categorical_accuracy: 0.1772 - val_loss: 2.4649 - val_categorical_accuracy: 0.1695\n",
      "Epoch 119/200\n",
      "868/868 [==============================] - 156s 180ms/step - loss: 2.4373 - categorical_accuracy: 0.1736 - val_loss: 2.4557 - val_categorical_accuracy: 0.1695\n",
      "Epoch 120/200\n",
      "868/868 [==============================] - 155s 179ms/step - loss: 2.4408 - categorical_accuracy: 0.1732 - val_loss: 2.4650 - val_categorical_accuracy: 0.1695\n",
      "Epoch 121/200\n",
      "868/868 [==============================] - 155s 178ms/step - loss: 2.4368 - categorical_accuracy: 0.1731 - val_loss: 2.4558 - val_categorical_accuracy: 0.1695\n",
      "Epoch 122/200\n",
      "868/868 [==============================] - 155s 178ms/step - loss: 2.4373 - categorical_accuracy: 0.1749 - val_loss: 2.4556 - val_categorical_accuracy: 0.1695\n",
      "Epoch 123/200\n",
      "868/868 [==============================] - 156s 179ms/step - loss: 2.4357 - categorical_accuracy: 0.1805 - val_loss: 2.4626 - val_categorical_accuracy: 0.1695\n",
      "Epoch 124/200\n",
      "868/868 [==============================] - 157s 181ms/step - loss: 2.4381 - categorical_accuracy: 0.1768 - val_loss: 2.4643 - val_categorical_accuracy: 0.1695\n",
      "Epoch 125/200\n",
      "868/868 [==============================] - 157s 181ms/step - loss: 2.4409 - categorical_accuracy: 0.1741 - val_loss: 2.4715 - val_categorical_accuracy: 0.1695\n",
      "Epoch 126/200\n",
      "868/868 [==============================] - 157s 181ms/step - loss: 2.4365 - categorical_accuracy: 0.1765 - val_loss: 2.4588 - val_categorical_accuracy: 0.1695\n",
      "Epoch 127/200\n",
      "868/868 [==============================] - 157s 181ms/step - loss: 2.4389 - categorical_accuracy: 0.1725 - val_loss: 2.4702 - val_categorical_accuracy: 0.1695\n",
      "Epoch 128/200\n",
      "868/868 [==============================] - 155s 179ms/step - loss: 2.4406 - categorical_accuracy: 0.1731 - val_loss: 2.4663 - val_categorical_accuracy: 0.1695\n",
      "Epoch 129/200\n",
      "868/868 [==============================] - 154s 178ms/step - loss: 2.4371 - categorical_accuracy: 0.1745 - val_loss: 2.4619 - val_categorical_accuracy: 0.1695\n",
      "Epoch 130/200\n",
      "868/868 [==============================] - 154s 178ms/step - loss: 2.4367 - categorical_accuracy: 0.1706 - val_loss: 2.4650 - val_categorical_accuracy: 0.1695\n",
      "Epoch 131/200\n",
      "868/868 [==============================] - 155s 179ms/step - loss: 2.4423 - categorical_accuracy: 0.1749 - val_loss: 2.4552 - val_categorical_accuracy: 0.1695\n",
      "Epoch 132/200\n",
      "868/868 [==============================] - 155s 178ms/step - loss: 2.4411 - categorical_accuracy: 0.1751 - val_loss: 2.4646 - val_categorical_accuracy: 0.1695\n",
      "Epoch 133/200\n",
      "868/868 [==============================] - 155s 178ms/step - loss: 2.4412 - categorical_accuracy: 0.1732 - val_loss: 2.4642 - val_categorical_accuracy: 0.1695\n",
      "Epoch 134/200\n",
      "868/868 [==============================] - 155s 178ms/step - loss: 2.4395 - categorical_accuracy: 0.1742 - val_loss: 2.4568 - val_categorical_accuracy: 0.1695\n",
      "Epoch 135/200\n",
      "868/868 [==============================] - 156s 179ms/step - loss: 2.4376 - categorical_accuracy: 0.1732 - val_loss: 2.4601 - val_categorical_accuracy: 0.1695\n",
      "Epoch 136/200\n",
      "868/868 [==============================] - 155s 178ms/step - loss: 2.4352 - categorical_accuracy: 0.1768 - val_loss: 2.4550 - val_categorical_accuracy: 0.1695\n",
      "Epoch 137/200\n",
      "868/868 [==============================] - 155s 178ms/step - loss: 2.4367 - categorical_accuracy: 0.1715 - val_loss: 2.4557 - val_categorical_accuracy: 0.1695\n",
      "Epoch 138/200\n",
      "868/868 [==============================] - 155s 179ms/step - loss: 2.4409 - categorical_accuracy: 0.1722 - val_loss: 2.4627 - val_categorical_accuracy: 0.1695\n",
      "Epoch 139/200\n",
      "868/868 [==============================] - 155s 179ms/step - loss: 2.4359 - categorical_accuracy: 0.1709 - val_loss: 2.4604 - val_categorical_accuracy: 0.1695\n",
      "Epoch 140/200\n",
      "868/868 [==============================] - 155s 179ms/step - loss: 2.4386 - categorical_accuracy: 0.1720 - val_loss: 2.4705 - val_categorical_accuracy: 0.1695\n",
      "Epoch 141/200\n",
      "868/868 [==============================] - 155s 178ms/step - loss: 2.4395 - categorical_accuracy: 0.1715 - val_loss: 2.4583 - val_categorical_accuracy: 0.1695\n",
      "Epoch 142/200\n",
      "868/868 [==============================] - 156s 180ms/step - loss: 2.4367 - categorical_accuracy: 0.1769 - val_loss: 2.4471 - val_categorical_accuracy: 0.1695\n",
      "Epoch 143/200\n",
      "868/868 [==============================] - 155s 179ms/step - loss: 2.4423 - categorical_accuracy: 0.1715 - val_loss: 2.4564 - val_categorical_accuracy: 0.1695\n",
      "Epoch 144/200\n",
      "868/868 [==============================] - 155s 178ms/step - loss: 2.4404 - categorical_accuracy: 0.1726 - val_loss: 2.4557 - val_categorical_accuracy: 0.1695\n",
      "Epoch 145/200\n",
      "868/868 [==============================] - 155s 178ms/step - loss: 2.4407 - categorical_accuracy: 0.1759 - val_loss: 2.4545 - val_categorical_accuracy: 0.1695\n",
      "Epoch 146/200\n",
      "868/868 [==============================] - 155s 179ms/step - loss: 2.4416 - categorical_accuracy: 0.1772 - val_loss: 2.4631 - val_categorical_accuracy: 0.1695\n",
      "Epoch 147/200\n",
      "868/868 [==============================] - 157s 181ms/step - loss: 2.4422 - categorical_accuracy: 0.1713 - val_loss: 2.4581 - val_categorical_accuracy: 0.1695\n",
      "Epoch 148/200\n",
      "868/868 [==============================] - 157s 181ms/step - loss: 2.4396 - categorical_accuracy: 0.1758 - val_loss: 2.4593 - val_categorical_accuracy: 0.1695\n",
      "Epoch 149/200\n",
      "868/868 [==============================] - 158s 182ms/step - loss: 2.4375 - categorical_accuracy: 0.1723 - val_loss: 2.4721 - val_categorical_accuracy: 0.1695\n",
      "Epoch 150/200\n",
      "868/868 [==============================] - 158s 182ms/step - loss: 2.4405 - categorical_accuracy: 0.1761 - val_loss: 2.4620 - val_categorical_accuracy: 0.1695\n",
      "Epoch 151/200\n",
      "868/868 [==============================] - 158s 182ms/step - loss: 2.4388 - categorical_accuracy: 0.1769 - val_loss: 2.4577 - val_categorical_accuracy: 0.1695\n",
      "Epoch 152/200\n",
      "868/868 [==============================] - 154s 178ms/step - loss: 2.4427 - categorical_accuracy: 0.1732 - val_loss: 2.4533 - val_categorical_accuracy: 0.1695\n",
      "Epoch 153/200\n",
      "868/868 [==============================] - 155s 179ms/step - loss: 2.4364 - categorical_accuracy: 0.1729 - val_loss: 2.4616 - val_categorical_accuracy: 0.1695\n",
      "Epoch 154/200\n",
      "868/868 [==============================] - 155s 179ms/step - loss: 2.4415 - categorical_accuracy: 0.1739 - val_loss: 2.4633 - val_categorical_accuracy: 0.1695\n",
      "Epoch 155/200\n",
      "868/868 [==============================] - 157s 180ms/step - loss: 2.4374 - categorical_accuracy: 0.1772 - val_loss: 2.4634 - val_categorical_accuracy: 0.1695\n",
      "Epoch 156/200\n",
      "868/868 [==============================] - 155s 179ms/step - loss: 2.4377 - categorical_accuracy: 0.1767 - val_loss: 2.4589 - val_categorical_accuracy: 0.1695\n",
      "Epoch 157/200\n",
      "868/868 [==============================] - 159s 183ms/step - loss: 2.4357 - categorical_accuracy: 0.1728 - val_loss: 2.4672 - val_categorical_accuracy: 0.1695\n",
      "Epoch 158/200\n",
      "868/868 [==============================] - 156s 180ms/step - loss: 2.4403 - categorical_accuracy: 0.1695 - val_loss: 2.4614 - val_categorical_accuracy: 0.1695\n",
      "Epoch 159/200\n",
      "868/868 [==============================] - 155s 178ms/step - loss: 2.4388 - categorical_accuracy: 0.1706 - val_loss: 2.4622 - val_categorical_accuracy: 0.1695\n",
      "Epoch 160/200\n",
      "868/868 [==============================] - 154s 178ms/step - loss: 2.4416 - categorical_accuracy: 0.1746 - val_loss: 2.4603 - val_categorical_accuracy: 0.1695\n",
      "Epoch 161/200\n",
      "868/868 [==============================] - 156s 180ms/step - loss: 2.4397 - categorical_accuracy: 0.1715 - val_loss: 2.4643 - val_categorical_accuracy: 0.1695\n",
      "Epoch 162/200\n",
      "868/868 [==============================] - 154s 178ms/step - loss: 2.4390 - categorical_accuracy: 0.1715 - val_loss: 2.4571 - val_categorical_accuracy: 0.1695\n",
      "Epoch 163/200\n",
      "868/868 [==============================] - 155s 179ms/step - loss: 2.4372 - categorical_accuracy: 0.1761 - val_loss: 2.4568 - val_categorical_accuracy: 0.1695\n",
      "Epoch 164/200\n",
      "868/868 [==============================] - 156s 179ms/step - loss: 2.4364 - categorical_accuracy: 0.1761 - val_loss: 2.4613 - val_categorical_accuracy: 0.1695\n",
      "Epoch 165/200\n",
      "868/868 [==============================] - 157s 181ms/step - loss: 2.4383 - categorical_accuracy: 0.1739 - val_loss: 2.4584 - val_categorical_accuracy: 0.1695\n",
      "Epoch 166/200\n",
      "868/868 [==============================] - 154s 178ms/step - loss: 2.4378 - categorical_accuracy: 0.1751 - val_loss: 2.4652 - val_categorical_accuracy: 0.1695\n",
      "Epoch 167/200\n",
      "868/868 [==============================] - 157s 181ms/step - loss: 2.4389 - categorical_accuracy: 0.1712 - val_loss: 2.4511 - val_categorical_accuracy: 0.1695\n",
      "Epoch 168/200\n",
      "868/868 [==============================] - 155s 179ms/step - loss: 2.4383 - categorical_accuracy: 0.1748 - val_loss: 2.4594 - val_categorical_accuracy: 0.1695\n",
      "Epoch 169/200\n",
      "868/868 [==============================] - 157s 181ms/step - loss: 2.4376 - categorical_accuracy: 0.1710 - val_loss: 2.4531 - val_categorical_accuracy: 0.1695\n",
      "Epoch 170/200\n",
      "868/868 [==============================] - 154s 178ms/step - loss: 2.4393 - categorical_accuracy: 0.1696 - val_loss: 2.4614 - val_categorical_accuracy: 0.1695\n",
      "Epoch 171/200\n",
      "868/868 [==============================] - 157s 181ms/step - loss: 2.4354 - categorical_accuracy: 0.1751 - val_loss: 2.4634 - val_categorical_accuracy: 0.1695\n",
      "Epoch 172/200\n",
      "868/868 [==============================] - 154s 178ms/step - loss: 2.4407 - categorical_accuracy: 0.1720 - val_loss: 2.4659 - val_categorical_accuracy: 0.1695\n",
      "Epoch 173/200\n",
      "868/868 [==============================] - 156s 180ms/step - loss: 2.4386 - categorical_accuracy: 0.1752 - val_loss: 2.4653 - val_categorical_accuracy: 0.1695\n",
      "Epoch 174/200\n",
      "868/868 [==============================] - 155s 179ms/step - loss: 2.4346 - categorical_accuracy: 0.1756 - val_loss: 2.4578 - val_categorical_accuracy: 0.1695\n",
      "Epoch 175/200\n",
      "868/868 [==============================] - 154s 178ms/step - loss: 2.4419 - categorical_accuracy: 0.1719 - val_loss: 2.4558 - val_categorical_accuracy: 0.1695\n",
      "Epoch 176/200\n",
      "868/868 [==============================] - 156s 180ms/step - loss: 2.4405 - categorical_accuracy: 0.1722 - val_loss: 2.4581 - val_categorical_accuracy: 0.1695\n",
      "Epoch 177/200\n",
      "868/868 [==============================] - 155s 178ms/step - loss: 2.4406 - categorical_accuracy: 0.1746 - val_loss: 2.4475 - val_categorical_accuracy: 0.1695\n",
      "Epoch 178/200\n",
      "868/868 [==============================] - 155s 179ms/step - loss: 2.4390 - categorical_accuracy: 0.1718 - val_loss: 2.4499 - val_categorical_accuracy: 0.1695\n",
      "Epoch 179/200\n",
      "868/868 [==============================] - 155s 179ms/step - loss: 2.4391 - categorical_accuracy: 0.1768 - val_loss: 2.4531 - val_categorical_accuracy: 0.1695\n",
      "Epoch 180/200\n",
      "868/868 [==============================] - 158s 182ms/step - loss: 2.4346 - categorical_accuracy: 0.1728 - val_loss: 2.4551 - val_categorical_accuracy: 0.1695\n",
      "Epoch 181/200\n",
      "868/868 [==============================] - 154s 178ms/step - loss: 2.4377 - categorical_accuracy: 0.1715 - val_loss: 2.4584 - val_categorical_accuracy: 0.1695\n",
      "Epoch 182/200\n",
      "868/868 [==============================] - 157s 181ms/step - loss: 2.4373 - categorical_accuracy: 0.1769 - val_loss: 2.4648 - val_categorical_accuracy: 0.1695\n",
      "Epoch 183/200\n",
      "868/868 [==============================] - 155s 178ms/step - loss: 2.4397 - categorical_accuracy: 0.1733 - val_loss: 2.4576 - val_categorical_accuracy: 0.1695\n",
      "Epoch 184/200\n",
      "868/868 [==============================] - 156s 180ms/step - loss: 2.4377 - categorical_accuracy: 0.1765 - val_loss: 2.4688 - val_categorical_accuracy: 0.1695\n",
      "Epoch 185/200\n",
      "868/868 [==============================] - 156s 180ms/step - loss: 2.4416 - categorical_accuracy: 0.1733 - val_loss: 2.4526 - val_categorical_accuracy: 0.1695\n",
      "Epoch 186/200\n",
      "868/868 [==============================] - 154s 178ms/step - loss: 2.4366 - categorical_accuracy: 0.1723 - val_loss: 2.4616 - val_categorical_accuracy: 0.1695\n",
      "Epoch 187/200\n",
      "868/868 [==============================] - 155s 178ms/step - loss: 2.4389 - categorical_accuracy: 0.1765 - val_loss: 2.4632 - val_categorical_accuracy: 0.1695\n",
      "Epoch 188/200\n",
      "868/868 [==============================] - 154s 177ms/step - loss: 2.4441 - categorical_accuracy: 0.1686 - val_loss: 2.4539 - val_categorical_accuracy: 0.1695\n",
      "Epoch 189/200\n",
      "868/868 [==============================] - 157s 181ms/step - loss: 2.4407 - categorical_accuracy: 0.1749 - val_loss: 2.4631 - val_categorical_accuracy: 0.1695\n",
      "Epoch 190/200\n",
      "868/868 [==============================] - 155s 178ms/step - loss: 2.4368 - categorical_accuracy: 0.1744 - val_loss: 2.4577 - val_categorical_accuracy: 0.1695\n",
      "Epoch 191/200\n",
      "868/868 [==============================] - 157s 180ms/step - loss: 2.4384 - categorical_accuracy: 0.1777 - val_loss: 2.4540 - val_categorical_accuracy: 0.1695\n",
      "Epoch 192/200\n",
      "868/868 [==============================] - 155s 179ms/step - loss: 2.4365 - categorical_accuracy: 0.1759 - val_loss: 2.4620 - val_categorical_accuracy: 0.1695\n",
      "Epoch 193/200\n",
      "868/868 [==============================] - 154s 178ms/step - loss: 2.4406 - categorical_accuracy: 0.1767 - val_loss: 2.4513 - val_categorical_accuracy: 0.1695\n",
      "Epoch 194/200\n",
      "868/868 [==============================] - 155s 178ms/step - loss: 2.4361 - categorical_accuracy: 0.1772 - val_loss: 2.4601 - val_categorical_accuracy: 0.1695\n",
      "Epoch 195/200\n",
      "868/868 [==============================] - 155s 178ms/step - loss: 2.4390 - categorical_accuracy: 0.1728 - val_loss: 2.4693 - val_categorical_accuracy: 0.1695\n",
      "Epoch 196/200\n",
      "868/868 [==============================] - 155s 179ms/step - loss: 2.4387 - categorical_accuracy: 0.1756 - val_loss: 2.4693 - val_categorical_accuracy: 0.1695\n",
      "Epoch 197/200\n",
      "868/868 [==============================] - 155s 178ms/step - loss: 2.4385 - categorical_accuracy: 0.1755 - val_loss: 2.4598 - val_categorical_accuracy: 0.1695\n",
      "Epoch 198/200\n",
      "868/868 [==============================] - 154s 178ms/step - loss: 2.4386 - categorical_accuracy: 0.1741 - val_loss: 2.4610 - val_categorical_accuracy: 0.1695\n",
      "Epoch 199/200\n",
      "868/868 [==============================] - 154s 178ms/step - loss: 2.4423 - categorical_accuracy: 0.1749 - val_loss: 2.4627 - val_categorical_accuracy: 0.1695\n",
      "Epoch 200/200\n",
      "868/868 [==============================] - 155s 179ms/step - loss: 2.4363 - categorical_accuracy: 0.1742 - val_loss: 2.4641 - val_categorical_accuracy: 0.1695\n"
     ]
    }
   ],
   "source": [
    "print(f'Training model with {tfhub_handle_encoder}')\n",
    "history = classifier_model2.fit(x=ds, validation_data=ds_test, epochs=200)"
   ]
  },
  {
   "cell_type": "code",
   "execution_count": 28,
   "metadata": {},
   "outputs": [
    {
     "data": {
      "image/png": "[encoded data removed]",
      "text/plain": [
       "<Figure size 640x480 with 1 Axes>"
      ]
     },
     "metadata": {},
     "output_type": "display_data"
    }
   ],
   "source": [
    "plt.plot(history.history['loss'])\n",
    "plt.plot(history.history['val_loss'])\n",
    "plt.xlabel('Epoka', fontsize=12)\n",
    "plt.ylabel('Entropia krzyżowa', fontsize=12)\n",
    "plt.legend(['zbiór treningowy', 'zbiór testowy'])\n",
    "plt.xticks(fontsize=12)\n",
    "plt.yticks(fontsize=12)\n",
    "plt.tight_layout()\n",
    "plt.savefig('classifier_model2_loss.png')"
   ]
  },
  {
   "cell_type": "code",
   "execution_count": 29,
   "metadata": {},
   "outputs": [
    {
     "data": {
      "image/png": "[encoded data removed]",
      "text/plain": [
       "<Figure size 640x480 with 1 Axes>"
      ]
     },
     "metadata": {},
     "output_type": "display_data"
    }
   ],
   "source": [
    "plt.plot(history.history['categorical_accuracy'])\n",
    "plt.plot(history.history['val_categorical_accuracy'])\n",
    "plt.xlabel('Epoka', fontsize=12)\n",
    "plt.ylabel('Dokładność', fontsize=12)\n",
    "plt.legend(['zbiór treningowy', 'zbiór testowy'])\n",
    "plt.xticks(fontsize=12)\n",
    "plt.yticks(fontsize=12)\n",
    "plt.tight_layout()\n",
    "plt.savefig('classifier_model2_acc.png')"
   ]
  },
  {
   "cell_type": "code",
   "execution_count": 20,
   "metadata": {},
   "outputs": [
    {
     "ename": "ValueError",
     "evalue": "Unknown layer: KerasLayer. Please ensure this object is passed to the `custom_objects` argument. See https://www.tensorflow.org/guide/keras/save_and_serialize#registering_the_custom_object for details.",
     "output_type": "error",
     "traceback": [
      "\u001b[1;31m---------------------------------------------------------------------------\u001b[0m",
      "\u001b[1;31mValueError\u001b[0m                                Traceback (most recent call last)",
      "Cell \u001b[1;32mIn[20], line 2\u001b[0m\n\u001b[0;32m      1\u001b[0m \u001b[38;5;66;03m# classifier_model2.save(\"classifier_model2.keras\")\u001b[39;00m\n\u001b[1;32m----> 2\u001b[0m loaded_classifier_model2 \u001b[38;5;241m=\u001b[39m \u001b[43mtf\u001b[49m\u001b[38;5;241;43m.\u001b[39;49m\u001b[43mkeras\u001b[49m\u001b[38;5;241;43m.\u001b[39;49m\u001b[43mmodels\u001b[49m\u001b[38;5;241;43m.\u001b[39;49m\u001b[43mload_model\u001b[49m\u001b[43m(\u001b[49m\u001b[38;5;124;43m\"\u001b[39;49m\u001b[38;5;124;43mclassifier_model2.keras\u001b[39;49m\u001b[38;5;124;43m\"\u001b[39;49m\u001b[43m)\u001b[49m\n",
      "File \u001b[1;32mc:\\Users\\marta\\anaconda3\\envs\\mgr\\lib\\site-packages\\keras\\utils\\traceback_utils.py:70\u001b[0m, in \u001b[0;36mfilter_traceback.<locals>.error_handler\u001b[1;34m(*args, **kwargs)\u001b[0m\n\u001b[0;32m     67\u001b[0m     filtered_tb \u001b[38;5;241m=\u001b[39m _process_traceback_frames(e\u001b[38;5;241m.\u001b[39m__traceback__)\n\u001b[0;32m     68\u001b[0m     \u001b[38;5;66;03m# To get the full stack trace, call:\u001b[39;00m\n\u001b[0;32m     69\u001b[0m     \u001b[38;5;66;03m# `tf.debugging.disable_traceback_filtering()`\u001b[39;00m\n\u001b[1;32m---> 70\u001b[0m     \u001b[38;5;28;01mraise\u001b[39;00m e\u001b[38;5;241m.\u001b[39mwith_traceback(filtered_tb) \u001b[38;5;28;01mfrom\u001b[39;00m \u001b[38;5;28;01mNone\u001b[39;00m\n\u001b[0;32m     71\u001b[0m \u001b[38;5;28;01mfinally\u001b[39;00m:\n\u001b[0;32m     72\u001b[0m     \u001b[38;5;28;01mdel\u001b[39;00m filtered_tb\n",
      "File \u001b[1;32mc:\\Users\\marta\\anaconda3\\envs\\mgr\\lib\\site-packages\\keras\\utils\\generic_utils.py:605\u001b[0m, in \u001b[0;36mclass_and_config_for_serialized_keras_object\u001b[1;34m(config, module_objects, custom_objects, printable_module_name)\u001b[0m\n\u001b[0;32m    603\u001b[0m \u001b[38;5;28mcls\u001b[39m \u001b[38;5;241m=\u001b[39m get_registered_object(class_name, custom_objects, module_objects)\n\u001b[0;32m    604\u001b[0m \u001b[38;5;28;01mif\u001b[39;00m \u001b[38;5;28mcls\u001b[39m \u001b[38;5;129;01mis\u001b[39;00m \u001b[38;5;28;01mNone\u001b[39;00m:\n\u001b[1;32m--> 605\u001b[0m     \u001b[38;5;28;01mraise\u001b[39;00m \u001b[38;5;167;01mValueError\u001b[39;00m(\n\u001b[0;32m    606\u001b[0m         \u001b[38;5;124mf\u001b[39m\u001b[38;5;124m\"\u001b[39m\u001b[38;5;124mUnknown \u001b[39m\u001b[38;5;132;01m{\u001b[39;00mprintable_module_name\u001b[38;5;132;01m}\u001b[39;00m\u001b[38;5;124m: \u001b[39m\u001b[38;5;132;01m{\u001b[39;00mclass_name\u001b[38;5;132;01m}\u001b[39;00m\u001b[38;5;124m. \u001b[39m\u001b[38;5;124m\"\u001b[39m\n\u001b[0;32m    607\u001b[0m         \u001b[38;5;124m\"\u001b[39m\u001b[38;5;124mPlease ensure this \u001b[39m\u001b[38;5;124m\"\u001b[39m\n\u001b[0;32m    608\u001b[0m         \u001b[38;5;124m\"\u001b[39m\u001b[38;5;124mobject is passed to the `custom_objects` argument. See \u001b[39m\u001b[38;5;124m\"\u001b[39m\n\u001b[0;32m    609\u001b[0m         \u001b[38;5;124m\"\u001b[39m\u001b[38;5;124mhttps://www.tensorflow.org/guide/keras/save_and_serialize\u001b[39m\u001b[38;5;124m\"\u001b[39m\n\u001b[0;32m    610\u001b[0m         \u001b[38;5;124m\"\u001b[39m\u001b[38;5;124m#registering_the_custom_object for details.\u001b[39m\u001b[38;5;124m\"\u001b[39m\n\u001b[0;32m    611\u001b[0m     )\n\u001b[0;32m    613\u001b[0m cls_config \u001b[38;5;241m=\u001b[39m config[\u001b[38;5;124m\"\u001b[39m\u001b[38;5;124mconfig\u001b[39m\u001b[38;5;124m\"\u001b[39m]\n\u001b[0;32m    614\u001b[0m \u001b[38;5;66;03m# Check if `cls_config` is a list. If it is a list, return the class and the\u001b[39;00m\n\u001b[0;32m    615\u001b[0m \u001b[38;5;66;03m# associated class configs for recursively deserialization. This case will\u001b[39;00m\n\u001b[0;32m    616\u001b[0m \u001b[38;5;66;03m# happen on the old version of sequential model (e.g. `keras_version` ==\u001b[39;00m\n\u001b[0;32m    617\u001b[0m \u001b[38;5;66;03m# \"2.0.6\"), which is serialized in a different structure, for example\u001b[39;00m\n\u001b[0;32m    618\u001b[0m \u001b[38;5;66;03m# \"{'class_name': 'Sequential',\u001b[39;00m\n\u001b[0;32m    619\u001b[0m \u001b[38;5;66;03m#   'config': [{'class_name': 'Embedding', 'config': ...}, {}, ...]}\".\u001b[39;00m\n",
      "\u001b[1;31mValueError\u001b[0m: Unknown layer: KerasLayer. Please ensure this object is passed to the `custom_objects` argument. See https://www.tensorflow.org/guide/keras/save_and_serialize#registering_the_custom_object for details."
     ]
    }
   ],
   "source": [
    "# classifier_model2.save(\"classifier_model2.keras\")\n",
    "loaded_classifier_model2 = tf.keras.models.load_model(\"classifier_model2.keras\")"
   ]
  },
  {
   "cell_type": "code",
   "execution_count": null,
   "metadata": {},
   "outputs": [],
   "source": []
  }
 ],
 "metadata": {
  "kernelspec": {
   "display_name": "mgr",
   "language": "python",
   "name": "python3"
  },
  "language_info": {
   "codemirror_mode": {
    "name": "ipython",
    "version": 3
   },
   "file_extension": ".py",
   "mimetype": "text/x-python",
   "name": "python",
   "nbconvert_exporter": "python",
   "pygments_lexer": "ipython3",
   "version": "3.9.18"
  }
 },
 "nbformat": 4,
 "nbformat_minor": 2
}
